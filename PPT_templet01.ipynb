{
 "cells": [
  {
   "cell_type": "markdown",
   "id": "6af11ae4-a06d-4a1d-b98c-742e3d738fab",
   "metadata": {},
   "source": [
    "## 슬라이드 템플릿 만들고 여러개 생성하기\n",
    "\n",
    "기존에 사용하던 템플릿을 제공받은 상황!  -->  이를 똑같이 만들어 줘야함\n",
    "<hr>\n",
    "### 어떻게 슬라이드 생성만들건가\n",
    "\n",
    "> 1. 입력받은 값이 총 몇개인지 알아보기  ex) num = 2 => 제목 + 슬라이드 설명 + 내용.<br>\n",
    "                                         (이때 제목과 설명은 기본으로 +2 해주어야 함. num = 2 + 2 = 4<br><hr>\n",
    "> 2. 기본으로 사용할 슬라이드 생성하고, num 개수만큼 슬라이드 창 만들어주기.\n",
    "> <pre>2.1. 제목</pre>\n",
    "> <pre>   주제목과 부제목 작성할 수 있게 만들기</pre>\n",
    "> <pre>2.2. 설명창</pre>\n",
    "> <pre>   2.2.1. 맨 위에 제목 들어가게 text창 만들어주기</pre>\n",
    "> <pre>2.3. 내용 창들</pre>\n",
    "> <pre>   2.3.1. 맨 위에 제목 들어가게 text창 만들어주기</pre>\n",
    "> <pre>   2.3.2. 해당 ppt를 만드는 날짜가 오른쪽 상단에 자동으로 업데이트 가능하도록</pre>\n",
    "> <pre>   2.3.3. 영상이 들어가는 바탕에 검은색 화면을 넣어야함 -> 영상 가로 높이 맞춰서 도형넣고, 색깔은 검은색으로 지정</pre>\n",
    "> <pre>   2.3.4. 영상 밑에 text창 만들어주기</pre>\n",
    "> <pre>   2.3.5. 왼쪽 하단에 ' 작성자 : ' 까지만 text창에 넣어주기</pre>"
   ]
  },
  {
   "cell_type": "code",
   "execution_count": 34,
   "id": "089d0ee3-4d7c-40b1-9aa9-ea0f83b165b1",
   "metadata": {},
   "outputs": [],
   "source": [
    "# 라이브러리\n",
    "from pptx import Presentation\n",
    "from pptx.util import Inches, Cm        # 크기 조정(사진, 클씨, 영상 등 모든 것)\n",
    "from pptx.enum.shapes import MSO_SHAPE  # 도형 만들기\n",
    "from pptx.enum.dml import MSO_THEME_COLOR\n",
    "from pptx.dml.color import RGBColor"
   ]
  },
  {
   "cell_type": "code",
   "execution_count": 38,
   "id": "25e546ee-b6a3-4b83-93c3-e2c03c6677f1",
   "metadata": {},
   "outputs": [],
   "source": [
    "# pptx : 슬라이드가 없는 상태\n",
    "prs = Presentation()\n",
    "\n",
    "slide_layout = prs.slide_layouts[6]\n",
    "slide = prs.slides.add_slide(slide_layout)\n",
    "\n",
    "left = top = height = width = Inches(1)\n",
    "\n",
    "# 직사각형\n",
    "rec = slide.shapes.add_shape(MSO_SHAPE.RECTANGLE, left, top, width, height)\n",
    "# 도형 색깔\n",
    "fill = rec.fill # 도형 내부 색깔\n",
    "fill.solid()\n",
    "line = rec.line # 도형 테두리 색깔\n",
    "\n",
    "fill.fore_color.rgb = RGBColor(0, 0, 0)\n",
    "line.color.rgb = RGBColor(0, 0, 0)\n",
    "\n",
    "# 기본으로 적용된 그림자 제거\n",
    "shadow = shape.shadow\n",
    "shadow.inherit = False\n",
    "\n",
    "# Save the presentation\n",
    "prs.save(\"C:/Users/JungHyeona/Documents/Project/pptx/a.pptx\")"
   ]
  },
  {
   "cell_type": "code",
   "execution_count": null,
   "id": "d4d8bef6-addf-4115-8127-6a14e6c3fc56",
   "metadata": {},
   "outputs": [],
   "source": []
  }
 ],
 "metadata": {
  "kernelspec": {
   "display_name": "Python 3 (ipykernel)",
   "language": "python",
   "name": "python3"
  },
  "language_info": {
   "codemirror_mode": {
    "name": "ipython",
    "version": 3
   },
   "file_extension": ".py",
   "mimetype": "text/x-python",
   "name": "python",
   "nbconvert_exporter": "python",
   "pygments_lexer": "ipython3",
   "version": "3.9.13"
  }
 },
 "nbformat": 4,
 "nbformat_minor": 5
}
