{
 "cells": [
  {
   "cell_type": "code",
   "execution_count": 1,
   "id": "63f64281-5cad-4269-b0fd-9273464c6012",
   "metadata": {},
   "outputs": [],
   "source": [
    "import torch\n",
    "import torch.nn as nn\n",
    "import torchvision\n",
    "import torchvision.transforms as transforms\n",
    "from torch.utils.data import DataLoader, Dataset\n",
    "\n",
    "from sklearn.model_selection import train_test_split\n",
    "import os\n",
    "from PIL import Image\n",
    "from sklearn.preprocessing import LabelEncoder  # label 수로 변환"
   ]
  },
  {
   "cell_type": "code",
   "execution_count": 2,
   "id": "828c8f59-2423-4f8f-8df6-5bfc55d9773b",
   "metadata": {},
   "outputs": [],
   "source": [
    "# 데이터 폴더 경로\n",
    "path = 'C:\\\\Users\\\\JungHyeona\\\\Documents\\\\Project\\\\05_AI\\\\PW'"
   ]
  },
  {
   "cell_type": "code",
   "execution_count": 3,
   "id": "c0d9820e-d7e0-4968-a58c-42d456c80dc5",
   "metadata": {},
   "outputs": [],
   "source": [
    "class CustomDataset(Dataset):\n",
    "    def __init__(self, images, labels, transform=None):\n",
    "        self.images = images\n",
    "        self.labels = labels\n",
    "        self.transform = transform\n",
    "        \n",
    "    def __len__(self):\n",
    "        return len(self.images)\n",
    "    \n",
    "    def __getitem__(self, index):\n",
    "        img = self.images[index]\n",
    "        label = self.labels[index]\n",
    "        \n",
    "        if self.transform is not None:\n",
    "            img = self.transform(img)\n",
    "            \n",
    "        return img, label"
   ]
  },
  {
   "cell_type": "code",
   "execution_count": 4,
   "id": "e143f00a-60b9-4e8e-a5cf-1d9d2a3cbc70",
   "metadata": {
    "tags": []
   },
   "outputs": [],
   "source": [
    "images = []\n",
    "labels = []\n",
    "\n",
    "for for_name in os.listdir(path):  # i = ['BackgroundNoise', 'LoopNoise', 'Normal(Air)']\n",
    "    forder = os.path.join(path, for_name)  # ex) path/Normal(Air)\n",
    "\n",
    "    for j in os.listdir(forder):\n",
    "        file = os.path.join(forder, j)  # ex) path/Normal(Air)/a.png\n",
    "        \n",
    "        image = Image.open(file)\n",
    "        label = os.path.basename(os.path.dirname(file))\n",
    "        \n",
    "        images.append(image)\n",
    "        labels.append(label)"
   ]
  },
  {
   "cell_type": "code",
   "execution_count": 5,
   "id": "020fcc57-a249-4cf5-9f77-950896d0beff",
   "metadata": {},
   "outputs": [],
   "source": [
    "# 라벨 값 변경\n",
    "for i in range(len(labels)):\n",
    "    if labels[i] == 'BackgroundNoise' or labels[i] == 'LoopNoise':\n",
    "        labels[i] = 0\n",
    "    else:\n",
    "        labels[i] = 1"
   ]
  },
  {
   "cell_type": "code",
   "execution_count": 6,
   "id": "f85db179-0119-4597-af0c-be6e27246e42",
   "metadata": {},
   "outputs": [
    {
     "data": {
      "text/plain": [
       "1851"
      ]
     },
     "execution_count": 6,
     "metadata": {},
     "output_type": "execute_result"
    }
   ],
   "source": [
    "len(labels)"
   ]
  },
  {
   "cell_type": "code",
   "execution_count": 7,
   "id": "65356c96-07a4-4603-9ec2-6327493f708c",
   "metadata": {},
   "outputs": [],
   "source": [
    "# 데이터 전처리\n",
    "transform = transforms.Compose([\n",
    "     transforms.Resize((32, 32)),\n",
    "     transforms.ToTensor(),\n",
    "     transforms.Normalize((-0.5, 0.5, 0.5), (0.5, 0.5, 0.5))])"
   ]
  },
  {
   "cell_type": "code",
   "execution_count": 8,
   "id": "dd9eae75-142a-4302-924d-3a084d68cf08",
   "metadata": {},
   "outputs": [],
   "source": [
    "# 데이터셋 인스턴스 생성\n",
    "dataset = CustomDataset(images, labels, transform=transform)"
   ]
  },
  {
   "cell_type": "code",
   "execution_count": 9,
   "id": "2271c921-2020-47cd-817d-3e14fa1b103e",
   "metadata": {},
   "outputs": [],
   "source": [
    "# 데이터셋을 train, validation, test로 분리\n",
    "train_dataset, test_dataset = train_test_split(dataset, test_size=0.1, random_state=42)\n",
    "train_dataset, val_dataset = train_test_split(train_dataset, test_size=0.1, random_state=42)"
   ]
  },
  {
   "cell_type": "code",
   "execution_count": 10,
   "id": "a30580a7-09dc-4161-a6e4-7d8ec9a0bf39",
   "metadata": {},
   "outputs": [],
   "source": [
    "# DataLoader를 통해 데이터를 불러올 수 있도록 설정\n",
    "train_loader = DataLoader(train_dataset, batch_size=32, shuffle=True, num_workers=4)\n",
    "val_loader = DataLoader(val_dataset, batch_size=32, shuffle=False, num_workers=4)\n",
    "test_loader = DataLoader(test_dataset, batch_size=32, shuffle=False, num_workers=4)"
   ]
  },
  {
   "cell_type": "markdown",
   "id": "28a4ca98-c79d-4592-8658-8d48eb78b6e2",
   "metadata": {},
   "source": [
    "# 모델"
   ]
  },
  {
   "cell_type": "code",
   "execution_count": 11,
   "id": "da70f462-a7b0-4420-aff2-5944378d67d1",
   "metadata": {},
   "outputs": [],
   "source": [
    "class CNN(nn.Module):\n",
    "    def __init__(self):\n",
    "        super(CNN, self).__init__()\n",
    "        \n",
    "        self.model = nn.Sequential(\n",
    "            # (32, 32, 3) -> (32, 32, 32), (16, 16, 32)\n",
    "            nn.Conv2d(3, 32, kernel_size=(3, 3), padding=1, stride=1),\n",
    "            nn.ReLU(),\n",
    "            nn.MaxPool2d((2, 2)),\n",
    "            \n",
    "            # (16, 16, 32) -> (16, 16, 64) -> (8, 8, 64)\n",
    "            nn.Conv2d(32, 64, kernel_size=(3, 3), padding=1, stride=1),\n",
    "            nn.ReLU(),\n",
    "            nn.MaxPool2d((2, 2)),\n",
    "            \n",
    "            # (8, 8, 64) -> (8, 8, 128) -> (4, 4, 128)\n",
    "            nn.Conv2d(64, 128, kernel_size=(3, 3), padding=1, stride=1),\n",
    "            nn.ReLU(),\n",
    "            nn.MaxPool2d((2, 2)),\n",
    "            \n",
    "            nn.Flatten(),\n",
    "            nn.Linear(4*4*128, 18),\n",
    "            nn.Linear(18, 3)\n",
    "        )\n",
    "        \n",
    "\n",
    "    def forward(self,x):\n",
    "    \t# self.layer에 정의한 연산 수행\n",
    "        out = self.model(x)\n",
    "        return out"
   ]
  },
  {
   "cell_type": "code",
   "execution_count": 12,
   "id": "502f156a-18b6-4426-b696-3d0eb80188d8",
   "metadata": {
    "tags": []
   },
   "outputs": [
    {
     "name": "stdout",
     "output_type": "stream",
     "text": [
      "Using cuda device\n"
     ]
    },
    {
     "data": {
      "text/plain": [
       "CNN(\n",
       "  (model): Sequential(\n",
       "    (0): Conv2d(3, 32, kernel_size=(3, 3), stride=(1, 1), padding=(1, 1))\n",
       "    (1): ReLU()\n",
       "    (2): MaxPool2d(kernel_size=(2, 2), stride=(2, 2), padding=0, dilation=1, ceil_mode=False)\n",
       "    (3): Conv2d(32, 64, kernel_size=(3, 3), stride=(1, 1), padding=(1, 1))\n",
       "    (4): ReLU()\n",
       "    (5): MaxPool2d(kernel_size=(2, 2), stride=(2, 2), padding=0, dilation=1, ceil_mode=False)\n",
       "    (6): Conv2d(64, 128, kernel_size=(3, 3), stride=(1, 1), padding=(1, 1))\n",
       "    (7): ReLU()\n",
       "    (8): MaxPool2d(kernel_size=(2, 2), stride=(2, 2), padding=0, dilation=1, ceil_mode=False)\n",
       "    (9): Flatten(start_dim=1, end_dim=-1)\n",
       "    (10): Linear(in_features=2048, out_features=18, bias=True)\n",
       "    (11): Linear(in_features=18, out_features=3, bias=True)\n",
       "  )\n",
       ")"
      ]
     },
     "execution_count": 12,
     "metadata": {},
     "output_type": "execute_result"
    }
   ],
   "source": [
    "model = CNN()\n",
    "\n",
    "# GPU 사용 가능 여부에 따라 디바이스 설정\n",
    "device = \"cuda\" if torch.cuda.is_available() else \"cpu\"\n",
    "print(f\"Using {device} device\")\n",
    "\n",
    "model.to(device)"
   ]
  },
  {
   "cell_type": "code",
   "execution_count": 13,
   "id": "0ba5a293-c130-4dff-9c2b-e1aae9e6619e",
   "metadata": {},
   "outputs": [],
   "source": [
    "loss_func = nn.CrossEntropyLoss()\n",
    "learning_rate = 0.0002\n",
    "optimizer = torch.optim.RMSprop(model.parameters(), lr=learning_rate)"
   ]
  },
  {
   "cell_type": "code",
   "execution_count": 15,
   "id": "d9d4c3a2-1e74-4580-be7d-0f241e35d39b",
   "metadata": {},
   "outputs": [
    {
     "name": "stdout",
     "output_type": "stream",
     "text": [
      "총 배치의 수 : 47\n",
      "[Epoch:    1] cost = 0.626494884\n",
      "[Epoch:    2] cost = 0.407184452\n",
      "[Epoch:    3] cost = 0.324663699\n",
      "[Epoch:    4] cost = 0.305074394\n",
      "[Epoch:    5] cost = 0.274699867\n",
      "[Epoch:    6] cost = 0.284021676\n",
      "[Epoch:    7] cost = 0.244960889\n",
      "[Epoch:    8] cost = 0.251282334\n",
      "[Epoch:    9] cost = 0.272711843\n",
      "[Epoch:   10] cost = 0.227181688\n",
      "[Epoch:   11] cost = 0.22448191\n",
      "[Epoch:   12] cost = 0.243052915\n",
      "[Epoch:   13] cost = 0.215338856\n",
      "[Epoch:   14] cost = 0.211994022\n",
      "[Epoch:   15] cost = 0.22361429\n",
      "[Epoch:   16] cost = 0.212352261\n",
      "[Epoch:   17] cost = 0.211287037\n",
      "[Epoch:   18] cost = 0.208230466\n",
      "[Epoch:   19] cost = 0.190289646\n",
      "[Epoch:   20] cost = 0.20020175\n"
     ]
    }
   ],
   "source": [
    "total_batch = len(train_loader)\n",
    "print('총 배치의 수 : {}'.format(total_batch))\n",
    "\n",
    "for epoch in range(20):\n",
    "    avg_cost = 0\n",
    "\n",
    "    for X, Y in train_loader: # 미니 배치 단위로 꺼내온다. X는 미니 배치, Y는 레이블.\n",
    "        # image is already size of (28x28), no reshape\n",
    "        # label is not one-hot encoded\n",
    "        X = X.to(device)\n",
    "        Y = Y.to(device)\n",
    "\n",
    "        optimizer.zero_grad()\n",
    "        hypothesis = model(X)\n",
    "        cost = loss_func(hypothesis, Y)\n",
    "        cost.backward()\n",
    "        optimizer.step()\n",
    "\n",
    "        avg_cost += cost / total_batch\n",
    "\n",
    "    print('[Epoch: {:>4}] cost = {:>.9}'.format(epoch + 1, avg_cost))"
   ]
  },
  {
   "cell_type": "code",
   "execution_count": 16,
   "id": "1913f239-7baa-46d0-978b-206c99ed3901",
   "metadata": {},
   "outputs": [],
   "source": [
    "# 모델 평가 함수\n",
    "def evaluate(model, dataloader, device):\n",
    "    model.eval()\n",
    "    correct = 0\n",
    "    total = 0\n",
    "    with torch.no_grad():\n",
    "        for inputs, labels in dataloader:\n",
    "            inputs, labels = inputs.to(device), labels.to(device)\n",
    "            outputs = model(inputs)\n",
    "            _, predicted = outputs.max(1)\n",
    "            total += labels.size(0)\n",
    "            correct += predicted.eq(labels).sum().item()\n",
    "    accuracy = 100 * correct / total\n",
    "    return accuracy"
   ]
  },
  {
   "cell_type": "code",
   "execution_count": 17,
   "id": "774548ed-9805-4cb1-a0d5-58ee9d4ef9ed",
   "metadata": {},
   "outputs": [
    {
     "name": "stdout",
     "output_type": "stream",
     "text": [
      "Validation Accuracy: 97.60%\n"
     ]
    }
   ],
   "source": [
    "# 모델 평가\n",
    "device = torch.device(\"cuda\" if torch.cuda.is_available() else \"cpu\")\n",
    "model.to(device)\n",
    "val_accuracy = evaluate(model, val_loader, device)\n",
    "print(f'Validation Accuracy: {val_accuracy:.2f}%')"
   ]
  },
  {
   "cell_type": "code",
   "execution_count": 19,
   "id": "9d3320ee-1bab-458f-a03a-70a91207a101",
   "metadata": {},
   "outputs": [],
   "source": [
    "# 모델 저장\n",
    "torch.save(model, path+'cnn.pt')"
   ]
  },
  {
   "cell_type": "markdown",
   "id": "813aebde-5372-43b2-86b7-cc97632b5e09",
   "metadata": {},
   "source": [
    "# test"
   ]
  },
  {
   "cell_type": "code",
   "execution_count": null,
   "id": "9d18ea52-181b-4da5-bcec-a4e1a36ccd40",
   "metadata": {},
   "outputs": [],
   "source": []
  }
 ],
 "metadata": {
  "kernelspec": {
   "display_name": "Python 3 (ipykernel)",
   "language": "python",
   "name": "python3"
  },
  "language_info": {
   "codemirror_mode": {
    "name": "ipython",
    "version": 3
   },
   "file_extension": ".py",
   "mimetype": "text/x-python",
   "name": "python",
   "nbconvert_exporter": "python",
   "pygments_lexer": "ipython3",
   "version": "3.9.13"
  }
 },
 "nbformat": 4,
 "nbformat_minor": 5
}
