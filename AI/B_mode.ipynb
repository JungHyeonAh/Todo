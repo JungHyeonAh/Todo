{
 "cells": [
  {
   "cell_type": "code",
   "execution_count": 3,
   "id": "f28c7d5d-b91e-4200-831b-95e667891c10",
   "metadata": {},
   "outputs": [],
   "source": [
    "import torch\n",
    "import torch.nn as nn\n",
    "import torchvision\n",
    "import torchvision.transforms as transforms\n",
    "from torch.utils.data import DataLoader, Dataset\n",
    "\n",
    "from sklearn.model_selection import train_test_split\n",
    "import os\n",
    "from PIL import Image\n",
    "import glob\n",
    "from sklearn.preprocessing import LabelEncoder  # label 수로 변환"
   ]
  },
  {
   "cell_type": "code",
   "execution_count": 4,
   "id": "384f1baa-267c-48e5-bb94-c1e01c345eff",
   "metadata": {},
   "outputs": [],
   "source": [
    "# 데이터 폴더 경로\n",
    "path = 'C:\\\\Users\\\\JungHyeona\\\\Documents\\\\Project\\\\AI_deeplearning\\\\image\\\\Convex\\\\V8\\\\CA1-7S'"
   ]
  },
  {
   "cell_type": "code",
   "execution_count": 5,
   "id": "534cddd1-46cc-4aa4-9d3a-daafb29a2ca1",
   "metadata": {},
   "outputs": [],
   "source": [
    "class BDataset(Dataset):\n",
    "    def __init__(self, path, transform=None):\n",
    "        \n",
    "        self.path = path\n",
    "        \n",
    "        # error 이미지 경로\n",
    "        self.br = path + '\\\\Broken'\n",
    "        # 정상 이미지 경로\n",
    "        self.nor = path + '\\\\Normal'\n",
    "        \n",
    "        # 정상 이미지 저장\n",
    "        self.normal_list = glob.glob(self.nor + '\\\\*.png')\n",
    "        # error 이미지 저장\n",
    "        self.broken_list = glob.glob(self.br + '\\\\*.png')\n",
    "        \n",
    "        # 모든 이미지를 한 개로 묶기\n",
    "        self.img_list = self.normal_list + self.broken_list\n",
    "        self.label_list = [0] * len(self.normal_list) + [1] * len(self.broken_list)\n",
    "\n",
    "        self.transform = transform\n",
    "        \n",
    "    def __len__(self):\n",
    "        return len(self.img_list)\n",
    "    \n",
    "    def __getitem__(self, index):\n",
    "        img_path = self.img_list[index]\n",
    "        label = self.label_list[index]\n",
    "        \n",
    "        image = Image.open(img_path)\n",
    "\n",
    "        if self.transform is not None:\n",
    "            image = self.transform(image)\n",
    "            \n",
    "        return image, label"
   ]
  },
  {
   "cell_type": "code",
   "execution_count": null,
   "id": "7d03ca31-7446-419b-b7b1-b5fd2a6e8cec",
   "metadata": {
    "jupyter": {
     "source_hidden": true
    },
    "tags": []
   },
   "outputs": [],
   "source": [
    "'''\n",
    "images = []\n",
    "labels = []\n",
    "\n",
    "for for_name in os.listdir(path):  # i = ['BackgroundNoise', 'LoopNoise', 'Normal(Air)']\n",
    "    forder = os.path.join(path, for_name)  # ex) path/Normal(Air)\n",
    "\n",
    "    for j in os.listdir(forder):\n",
    "        file = os.path.join(forder, j)  # ex) path/Normal(Air)/a.png\n",
    "        \n",
    "        image = Image.open(file)\n",
    "        label = os.path.basename(os.path.dirname(file))\n",
    "        \n",
    "        images.append(image)\n",
    "        labels.append(label)\n",
    "'''"
   ]
  },
  {
   "cell_type": "markdown",
   "id": "37f9e6c1-2de8-42c4-831f-cea20bef5239",
   "metadata": {},
   "source": [
    "## 데이터 전처리<br>\n",
    "\n",
    "### normal : 1000개\n",
    "shape: (1000, 3, 808, 1182)<br>\n",
    "min: (0.0, 0.05882353, 0.019607844)<br>\n",
    "max: (0.92156863, 0.92156863, 0.92941177)<br>\n",
    "mean: (0.11181334, 0.111890435, 0.1135668)<br>\n",
    "std: (0.026530448, 0.02637402, 0.02658573)\n",
    "\n",
    "### broken\n",
    "shape: (523, 3, 808, 1182)<br>\n",
    "min: (0.0, 0.05882353, 0.019607844)<br>\n",
    "max: (0.92156863, 0.92156863, 0.92941177)<br>\n",
    "mean: (0.11188801, 0.111966185, 0.11256382)<br>\n",
    "std: (0.03245135, 0.032322615, 0.03192493)"
   ]
  },
  {
   "cell_type": "code",
   "execution_count": null,
   "id": "c9ae3295-c81d-4f4f-b743-62cd913d2777",
   "metadata": {
    "jupyter": {
     "source_hidden": true
    },
    "tags": []
   },
   "outputs": [],
   "source": [
    "# 데이터 전처리\n",
    "transform = transform = transforms.Compose([\n",
    "                transforms.Resize((512, 512)),\n",
    "                transforms.RandomHorizontalFlip(),   # 좌우반전\n",
    "                # transforms.RandomResizedCrop((60, 60)),   # (w, h). 이미지에서 잘라낼 크기 설정하면, 크기만큼 랜덤으로 잘린다.\n",
    "                # transforms.RandomErasing(),      # 이미지에서 랜덤하게 박스 모양으로 지운다. PIL image에 바로 적용 불가 -> tensor 필요\n",
    "                transforms.ToTensor(),\n",
    "                transforms.Normalize((0.5, 0.5, 0.5), (0.5, 0.5, 0.5)) ])"
   ]
  },
  {
   "cell_type": "code",
   "execution_count": 12,
   "id": "e140b1a3-6e50-448f-beed-f62c26ac8997",
   "metadata": {},
   "outputs": [],
   "source": [
    "# DataLoader를 통해 데이터를 불러올 수 있도록 설정\n",
    "class Dataloader():\n",
    "    def __init__(self, path):\n",
    "        normalize = transforms.Normalize((0.111850675, 0.11192831, 0.11306531), (0.029490899, 0.0293483175, 0.029255329999999996))\n",
    "        transform_train = transform = transforms.Compose([\n",
    "                transforms.Resize((512, 512)),\n",
    "                transforms.RandomHorizontalFlip(),   # 좌우반전\n",
    "                # transforms.RandomResizedCrop((60, 60)),   # (w, h). 이미지에서 잘라낼 크기 설정하면, 크기만큼 랜덤으로 잘린다.\n",
    "                # transforms.RandomErasing(),      # 이미지에서 랜덤하게 박스 모양으로 지운다. PIL image에 바로 적용 불가 -> tensor 필요\n",
    "                transforms.ToTensor(),\n",
    "                normalize ])\n",
    "        \n",
    "        transform_test = transform = transforms.Compose([\n",
    "                transforms.Resize((512, 512)),\n",
    "                transforms.ToTensor(),\n",
    "                normalize ])\n",
    "        \n",
    "        trainset = BDataset(path, transform_train)\n",
    "        testset = BDataset(path, transform_test)\n",
    "        \n",
    "        train_loader = DataLoader(trainset, batch_size=64, shuffle=True, num_workers=4)\n",
    "        test_loader = DataLoader(trainset, batch_size=64, shuffle=True, num_workers=4)\n",
    "        self.train_loader = train_loader\n",
    "        self.test_loader = test_loader\n",
    "        \n",
    "        \n",
    "        def getloader(self):\n",
    "            return self.trainloader, self.testloader"
   ]
  },
  {
   "cell_type": "code",
   "execution_count": 14,
   "id": "26a8f537-a107-480d-979e-bf97e89d6b30",
   "metadata": {},
   "outputs": [],
   "source": [
    "train_loader = Dataloader(path)\n",
    "test_loader = Dataloader(path)"
   ]
  },
  {
   "cell_type": "markdown",
   "id": "12d575e3-134d-4e75-9d76-456e5d3084b2",
   "metadata": {},
   "source": [
    "## 모델"
   ]
  },
  {
   "cell_type": "code",
   "execution_count": null,
   "id": "75af1faf-6bd6-4e42-ac0e-2f3acd967af0",
   "metadata": {},
   "outputs": [],
   "source": [
    "class CNN(nn.Module):\n",
    "    def __init__(self):\n",
    "        super(CNN, self).__init__()\n",
    "        \n",
    "        self.model = nn.Sequential(\n",
    "            # (512, 512, 3) -> (32, 32, 32), (16, 16, 32)\n",
    "            nn.Conv2d(3, 64, stride=1, padding=1),  #cnn layer\n",
    "            nn.BatchNormalization(),    #batch layer\n",
    "            nn.Conv2d(3, 64, stride=1, padding=1),  #cnn layer\n",
    "            nn.BatchNormalization(),    #batch layer\n",
    "            nn.Conv2d(3, 64, stride=1, padding=1),  #cnn layer\n",
    "            nn.BatchNormalization(),    #batch layer\n",
    "            \n",
    "            nn.MaxPooling2D((2, 2)),    #pooling layer\n",
    "            \n",
    "            nn.Conv2d(3, 64, stride=1, padding=1),  #cnn layer\n",
    "            nn.BatchNormalization(),    #batch layer\n",
    "            nn.Conv2d(3, 64, stride=1, padding=1),  #cnn layer\n",
    "            nn.BatchNormalization(),    #batch layer\n",
    "            nn.Conv2d(3, 64, stride=1, padding=1),  #cnn layer\n",
    "            nn.BatchNormalization(),    #batch layer\n",
    "            \n",
    "            nn.MaxPooling2D((2, 2)),    #pooling layer\n",
    "            \n",
    "            nn.Conv2d(3, 64, stride=1, padding=1),  #cnn layer\n",
    "            nn.BatchNormalization(),    #batch layer\n",
    "            nn.Flatten(),\n",
    "            nn.Linear(4*4*128, 18),\n",
    "            nn.Linear(18, 3)\n",
    "        )\n",
    "        \n",
    "\n",
    "    def forward(self,x):\n",
    "    \t# self.layer에 정의한 연산 수행\n",
    "        out = self.model(x)\n",
    "        return out"
   ]
  },
  {
   "cell_type": "code",
   "execution_count": null,
   "id": "637aa674-6f3c-4f82-86bc-845c6251318d",
   "metadata": {},
   "outputs": [],
   "source": [
    "loss_func = nn.CrossEntropyLoss()\n",
    "learning_rate = 0.0002\n",
    "optimizer = torch.optim.RMSprop(model.parameters(), lr=learning_rate)"
   ]
  },
  {
   "cell_type": "code",
   "execution_count": null,
   "id": "7b95a7ac-26e1-4edc-99be-9b3e6705a049",
   "metadata": {},
   "outputs": [],
   "source": [
    "total_batch = len(train_loader)\n",
    "print('총 배치의 수 : {}'.format(total_batch))\n",
    "\n",
    "for epoch in range(30):\n",
    "    avg_cost = 0\n",
    "\n",
    "    for X, Y in train_loader: # 미니 배치 단위로 꺼내온다. X는 미니 배치, Y는 레이블.\n",
    "        # image is already size of (28x28), no reshape\n",
    "        # label is not one-hot encoded\n",
    "        X = X.to(device)\n",
    "        Y = Y.to(device)\n",
    "\n",
    "        optimizer.zero_grad()\n",
    "        hypothesis = model(X)\n",
    "        cost = loss_func(hypothesis, Y)\n",
    "        cost.backward()\n",
    "        optimizer.step()\n",
    "\n",
    "        avg_cost += cost / total_batch\n",
    "\n",
    "    print('[Epoch: {:>4}] cost = {:>.9}'.format(epoch + 1, avg_cost))"
   ]
  },
  {
   "cell_type": "code",
   "execution_count": null,
   "id": "c4a47c26-8566-41e1-9e37-f1551d5be1cc",
   "metadata": {},
   "outputs": [],
   "source": [
    "# 모델 평가 함수\n",
    "def evaluate(model, dataloader, device):\n",
    "    model.eval()\n",
    "    correct = 0\n",
    "    total = 0\n",
    "    with torch.no_grad():\n",
    "        for inputs, labels in dataloader:\n",
    "            inputs, labels = inputs.to(device), labels.to(device)\n",
    "            outputs = model(inputs)\n",
    "            _, predicted = outputs.max(1)\n",
    "            total += labels.size(0)\n",
    "            correct += predicted.eq(labels).sum().item()\n",
    "    accuracy = 100 * correct / total\n",
    "    return accuracy"
   ]
  },
  {
   "cell_type": "code",
   "execution_count": null,
   "id": "6b89c2af-c3a0-45e6-a109-9fbdc1536296",
   "metadata": {},
   "outputs": [],
   "source": [
    "# 모델 평가\n",
    "device = torch.device(\"cuda\" if torch.cuda.is_available() else \"cpu\")\n",
    "model.to(device)\n",
    "val_accuracy = evaluate(model, val_loader, device)\n",
    "print(f'Validation Accuracy: {val_accuracy:.2f}%')"
   ]
  },
  {
   "cell_type": "code",
   "execution_count": null,
   "id": "4e3a8d80-7340-41d6-9989-ce8c1faecfee",
   "metadata": {},
   "outputs": [],
   "source": [
    "# 모델 저장\n",
    "torch.save(model, path+'B_cnn.pt')"
   ]
  }
 ],
 "metadata": {
  "kernelspec": {
   "display_name": "Python 3 (ipykernel)",
   "language": "python",
   "name": "python3"
  },
  "language_info": {
   "codemirror_mode": {
    "name": "ipython",
    "version": 3
   },
   "file_extension": ".py",
   "mimetype": "text/x-python",
   "name": "python",
   "nbconvert_exporter": "python",
   "pygments_lexer": "ipython3",
   "version": "3.9.13"
  }
 },
 "nbformat": 4,
 "nbformat_minor": 5
}
