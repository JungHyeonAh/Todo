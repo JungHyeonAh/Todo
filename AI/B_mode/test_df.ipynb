{
 "cells": [
  {
   "cell_type": "code",
   "execution_count": 2,
   "id": "8ebc4fe9-3e60-4145-9b98-a93ee2f71844",
   "metadata": {},
   "outputs": [],
   "source": [
    "import pandas as pd\n",
    "\n",
    "import os"
   ]
  },
  {
   "cell_type": "code",
   "execution_count": 72,
   "id": "1a298b93-e4e8-4e1f-bcde-c44ba861d960",
   "metadata": {},
   "outputs": [],
   "source": [
    "path = 'C:\\\\Users\\\\JungHyeona\\\\Documents\\\\Project\\\\AI_deeplearning\\\\image\\\\test_result.csv'\n",
    "\n",
    "df = pd.read_csv(path, index_col = 0)"
   ]
  },
  {
   "cell_type": "code",
   "execution_count": 73,
   "id": "8cf71920-2970-45a9-ab9c-f1cda5da6c56",
   "metadata": {},
   "outputs": [
    {
     "data": {
      "text/html": [
       "<div>\n",
       "<style scoped>\n",
       "    .dataframe tbody tr th:only-of-type {\n",
       "        vertical-align: middle;\n",
       "    }\n",
       "\n",
       "    .dataframe tbody tr th {\n",
       "        vertical-align: top;\n",
       "    }\n",
       "\n",
       "    .dataframe thead th {\n",
       "        text-align: right;\n",
       "    }\n",
       "</style>\n",
       "<table border=\"1\" class=\"dataframe\">\n",
       "  <thead>\n",
       "    <tr style=\"text-align: right;\">\n",
       "      <th></th>\n",
       "      <th>이미지</th>\n",
       "      <th>분류</th>\n",
       "    </tr>\n",
       "  </thead>\n",
       "  <tbody>\n",
       "    <tr>\n",
       "      <th>0</th>\n",
       "      <td>20220405155226821</td>\n",
       "      <td>False</td>\n",
       "    </tr>\n",
       "    <tr>\n",
       "      <th>1</th>\n",
       "      <td>20220405155226821</td>\n",
       "      <td>False</td>\n",
       "    </tr>\n",
       "    <tr>\n",
       "      <th>2</th>\n",
       "      <td>20220405155226821</td>\n",
       "      <td>False</td>\n",
       "    </tr>\n",
       "    <tr>\n",
       "      <th>3</th>\n",
       "      <td>20220405155226821</td>\n",
       "      <td>False</td>\n",
       "    </tr>\n",
       "    <tr>\n",
       "      <th>4</th>\n",
       "      <td>20220405155226821</td>\n",
       "      <td>True</td>\n",
       "    </tr>\n",
       "    <tr>\n",
       "      <th>...</th>\n",
       "      <td>...</td>\n",
       "      <td>...</td>\n",
       "    </tr>\n",
       "    <tr>\n",
       "      <th>2273</th>\n",
       "      <td>20220405155226821</td>\n",
       "      <td>True</td>\n",
       "    </tr>\n",
       "    <tr>\n",
       "      <th>2274</th>\n",
       "      <td>20220405155226821</td>\n",
       "      <td>True</td>\n",
       "    </tr>\n",
       "    <tr>\n",
       "      <th>2275</th>\n",
       "      <td>20220405155226821</td>\n",
       "      <td>True</td>\n",
       "    </tr>\n",
       "    <tr>\n",
       "      <th>2276</th>\n",
       "      <td>20220405155226821</td>\n",
       "      <td>True</td>\n",
       "    </tr>\n",
       "    <tr>\n",
       "      <th>2277</th>\n",
       "      <td>20220405155226821</td>\n",
       "      <td>True</td>\n",
       "    </tr>\n",
       "  </tbody>\n",
       "</table>\n",
       "<p>2278 rows × 2 columns</p>\n",
       "</div>"
      ],
      "text/plain": [
       "                    이미지     분류\n",
       "0     20220405155226821  False\n",
       "1     20220405155226821  False\n",
       "2     20220405155226821  False\n",
       "3     20220405155226821  False\n",
       "4     20220405155226821   True\n",
       "...                 ...    ...\n",
       "2273  20220405155226821   True\n",
       "2274  20220405155226821   True\n",
       "2275  20220405155226821   True\n",
       "2276  20220405155226821   True\n",
       "2277  20220405155226821   True\n",
       "\n",
       "[2278 rows x 2 columns]"
      ]
     },
     "execution_count": 73,
     "metadata": {},
     "output_type": "execute_result"
    }
   ],
   "source": [
    "df"
   ]
  },
  {
   "cell_type": "code",
   "execution_count": 74,
   "id": "63968f93-7c5f-4e9d-9eca-d3d97807ec0f",
   "metadata": {},
   "outputs": [],
   "source": [
    "# column명 바꾸기\n",
    "df.rename(columns={'이미지' : 'img_name', '분류' : 'predict'}, inplace=True)"
   ]
  },
  {
   "cell_type": "code",
   "execution_count": 7,
   "id": "50a5b8e3-ef6e-417c-80f0-c58727be58b6",
   "metadata": {},
   "outputs": [
    {
     "data": {
      "text/plain": [
       "Index(['이미지', '분류'], dtype='object')"
      ]
     },
     "execution_count": 7,
     "metadata": {},
     "output_type": "execute_result"
    }
   ],
   "source": [
    "df.columns"
   ]
  },
  {
   "cell_type": "code",
   "execution_count": 10,
   "id": "853f0f92-985f-471f-84aa-f43f22fb1101",
   "metadata": {},
   "outputs": [
    {
     "data": {
      "text/plain": [
       "Index(['img_num', 'predict'], dtype='object')"
      ]
     },
     "execution_count": 10,
     "metadata": {},
     "output_type": "execute_result"
    }
   ],
   "source": [
    "df.columns"
   ]
  },
  {
   "cell_type": "code",
   "execution_count": 67,
   "id": "68a5c359-d8af-4b4e-8a51-cca0c83324bc",
   "metadata": {},
   "outputs": [
    {
     "data": {
      "text/plain": [
       "True     2193\n",
       "False      85\n",
       "Name: predict, dtype: int64"
      ]
     },
     "execution_count": 67,
     "metadata": {},
     "output_type": "execute_result"
    }
   ],
   "source": [
    "df['predict'].value_counts()"
   ]
  },
  {
   "cell_type": "code",
   "execution_count": 75,
   "id": "1b31e014-054d-4fc4-b6e2-83d91fb156cd",
   "metadata": {},
   "outputs": [],
   "source": [
    "df.to_csv('C:\\\\Users\\\\JungHyeona\\\\Documents\\\\Project\\\\AI_deeplearning\\\\image\\\\test_result02.csv', encoding='cp949')"
   ]
  },
  {
   "cell_type": "code",
   "execution_count": null,
   "id": "3e99715b-0259-442c-843b-9bbc347a4585",
   "metadata": {},
   "outputs": [],
   "source": []
  },
  {
   "cell_type": "markdown",
   "id": "5aa5dfd0-be3f-4760-9f5d-07d0521bdf3d",
   "metadata": {},
   "source": [
    "# 기존 데이터 True, False값 저장하기"
   ]
  },
  {
   "cell_type": "code",
   "execution_count": 5,
   "id": "4df013b8-23a1-4004-8030-e5bf34c3b737",
   "metadata": {},
   "outputs": [],
   "source": [
    "img_path = 'C:\\\\Users\\\\JungHyeona\\\\Documents\\\\Project\\\\AI_deeplearning\\\\image\\\\test'"
   ]
  },
  {
   "cell_type": "markdown",
   "id": "c195fbba-1c07-4f1c-9b90-fead0d626ff2",
   "metadata": {},
   "source": [
    "## 이미지 이름 and True, False값 저장하기"
   ]
  },
  {
   "cell_type": "code",
   "execution_count": 6,
   "id": "eed36cb0-fb14-4749-9546-c56c480f5b19",
   "metadata": {},
   "outputs": [
    {
     "name": "stdout",
     "output_type": "stream",
     "text": [
      "C:\\Users\\JungHyeona\\Documents\\Project\\AI_deeplearning\\image\\test\\Block\n",
      "C:\\Users\\JungHyeona\\Documents\\Project\\AI_deeplearning\\image\\test\\Normal\n",
      "C:\\Users\\JungHyeona\\Documents\\Project\\AI_deeplearning\\image\\test\\Pattern\n",
      "C:\\Users\\JungHyeona\\Documents\\Project\\AI_deeplearning\\image\\test\\Scanline\n"
     ]
    }
   ],
   "source": [
    "images = []\n",
    "results = []\n",
    "\n",
    "for test in os.listdir(img_path):\n",
    "    folder = os.path.join(img_path, test)\n",
    "    print(folder)\n",
    "    for file in os.listdir(folder):\n",
    "        img_file = os.path.join(folder, file)\n",
    "        \n",
    "        # 이미지 이름 저장\n",
    "        if img_file.endswith('.PNG'):\n",
    "            file = file.split(\".\")[0]  # 확장자명 외의 값 저장\n",
    "            images.append(file)\n",
    "        \n",
    "        # 폴더 명에 따른 True, False 구분\n",
    "        if os.path.isfile(img_file):\n",
    "            if test == 'Normal':\n",
    "                results.append('True')\n",
    "            else:\n",
    "                results.append('False')"
   ]
  },
  {
   "cell_type": "code",
   "execution_count": 15,
   "id": "088fd01a-7fc8-446c-ac74-27d192919fa3",
   "metadata": {},
   "outputs": [],
   "source": [
    "img = pd.DataFrame(images)\n",
    "re = pd.DataFrame(results)"
   ]
  },
  {
   "cell_type": "code",
   "execution_count": 14,
   "id": "31ac450d-bef9-462e-b232-cfe3e935d6b0",
   "metadata": {},
   "outputs": [
    {
     "data": {
      "text/plain": [
       "2278"
      ]
     },
     "execution_count": 14,
     "metadata": {},
     "output_type": "execute_result"
    }
   ],
   "source": [
    "len(img)"
   ]
  },
  {
   "cell_type": "code",
   "execution_count": 20,
   "id": "f7feb72b-9d28-4d75-9e86-a7faf4b888dc",
   "metadata": {},
   "outputs": [
    {
     "data": {
      "text/plain": [
       "2278"
      ]
     },
     "execution_count": 20,
     "metadata": {},
     "output_type": "execute_result"
    }
   ],
   "source": [
    "#re.drop([2278, 2279], axis=0, inplace=True)\n",
    "\n",
    "len(re)"
   ]
  },
  {
   "cell_type": "code",
   "execution_count": 21,
   "id": "56d9b70e-551a-4cc7-8001-7509eb681da4",
   "metadata": {
    "collapsed": true,
    "jupyter": {
     "outputs_hidden": true
    },
    "tags": []
   },
   "outputs": [
    {
     "data": {
      "text/html": [
       "<div>\n",
       "<style scoped>\n",
       "    .dataframe tbody tr th:only-of-type {\n",
       "        vertical-align: middle;\n",
       "    }\n",
       "\n",
       "    .dataframe tbody tr th {\n",
       "        vertical-align: top;\n",
       "    }\n",
       "\n",
       "    .dataframe thead th {\n",
       "        text-align: right;\n",
       "    }\n",
       "</style>\n",
       "<table border=\"1\" class=\"dataframe\">\n",
       "  <thead>\n",
       "    <tr style=\"text-align: right;\">\n",
       "      <th></th>\n",
       "      <th>0</th>\n",
       "    </tr>\n",
       "  </thead>\n",
       "  <tbody>\n",
       "    <tr>\n",
       "      <th>0</th>\n",
       "      <td>False</td>\n",
       "    </tr>\n",
       "    <tr>\n",
       "      <th>1</th>\n",
       "      <td>False</td>\n",
       "    </tr>\n",
       "    <tr>\n",
       "      <th>2</th>\n",
       "      <td>False</td>\n",
       "    </tr>\n",
       "    <tr>\n",
       "      <th>3</th>\n",
       "      <td>False</td>\n",
       "    </tr>\n",
       "    <tr>\n",
       "      <th>4</th>\n",
       "      <td>False</td>\n",
       "    </tr>\n",
       "    <tr>\n",
       "      <th>...</th>\n",
       "      <td>...</td>\n",
       "    </tr>\n",
       "    <tr>\n",
       "      <th>2273</th>\n",
       "      <td>False</td>\n",
       "    </tr>\n",
       "    <tr>\n",
       "      <th>2274</th>\n",
       "      <td>False</td>\n",
       "    </tr>\n",
       "    <tr>\n",
       "      <th>2275</th>\n",
       "      <td>False</td>\n",
       "    </tr>\n",
       "    <tr>\n",
       "      <th>2276</th>\n",
       "      <td>False</td>\n",
       "    </tr>\n",
       "    <tr>\n",
       "      <th>2277</th>\n",
       "      <td>False</td>\n",
       "    </tr>\n",
       "  </tbody>\n",
       "</table>\n",
       "<p>2278 rows × 1 columns</p>\n",
       "</div>"
      ],
      "text/plain": [
       "          0\n",
       "0     False\n",
       "1     False\n",
       "2     False\n",
       "3     False\n",
       "4     False\n",
       "...     ...\n",
       "2273  False\n",
       "2274  False\n",
       "2275  False\n",
       "2276  False\n",
       "2277  False\n",
       "\n",
       "[2278 rows x 1 columns]"
      ]
     },
     "execution_count": 21,
     "metadata": {},
     "output_type": "execute_result"
    }
   ],
   "source": [
    "re"
   ]
  },
  {
   "cell_type": "code",
   "execution_count": 22,
   "id": "46684997-f5ba-40d9-8e39-3f2504847a3c",
   "metadata": {},
   "outputs": [],
   "source": [
    "origin = pd.concat([img, re], axis=1)"
   ]
  },
  {
   "cell_type": "code",
   "execution_count": 23,
   "id": "cfde1b77-6c32-4262-a6f2-8e215f7bd34e",
   "metadata": {},
   "outputs": [
    {
     "data": {
      "text/plain": [
       "2278"
      ]
     },
     "execution_count": 23,
     "metadata": {},
     "output_type": "execute_result"
    }
   ],
   "source": [
    "len(origin)"
   ]
  },
  {
   "cell_type": "code",
   "execution_count": 27,
   "id": "afc6490c-87a2-4f5d-a5a8-4aae01ca3540",
   "metadata": {},
   "outputs": [
    {
     "data": {
      "text/html": [
       "<div>\n",
       "<style scoped>\n",
       "    .dataframe tbody tr th:only-of-type {\n",
       "        vertical-align: middle;\n",
       "    }\n",
       "\n",
       "    .dataframe tbody tr th {\n",
       "        vertical-align: top;\n",
       "    }\n",
       "\n",
       "    .dataframe thead th {\n",
       "        text-align: right;\n",
       "    }\n",
       "</style>\n",
       "<table border=\"1\" class=\"dataframe\">\n",
       "  <thead>\n",
       "    <tr style=\"text-align: right;\">\n",
       "      <th></th>\n",
       "      <th>0</th>\n",
       "      <th>0</th>\n",
       "    </tr>\n",
       "  </thead>\n",
       "  <tbody>\n",
       "    <tr>\n",
       "      <th>0</th>\n",
       "      <td>20220112135223100</td>\n",
       "      <td>False</td>\n",
       "    </tr>\n",
       "    <tr>\n",
       "      <th>1</th>\n",
       "      <td>20220112135223950</td>\n",
       "      <td>False</td>\n",
       "    </tr>\n",
       "    <tr>\n",
       "      <th>2</th>\n",
       "      <td>20220112135224733</td>\n",
       "      <td>False</td>\n",
       "    </tr>\n",
       "    <tr>\n",
       "      <th>3</th>\n",
       "      <td>20220112135227836</td>\n",
       "      <td>False</td>\n",
       "    </tr>\n",
       "    <tr>\n",
       "      <th>4</th>\n",
       "      <td>20220112135228589</td>\n",
       "      <td>False</td>\n",
       "    </tr>\n",
       "    <tr>\n",
       "      <th>...</th>\n",
       "      <td>...</td>\n",
       "      <td>...</td>\n",
       "    </tr>\n",
       "    <tr>\n",
       "      <th>2273</th>\n",
       "      <td>20220405155224749</td>\n",
       "      <td>False</td>\n",
       "    </tr>\n",
       "    <tr>\n",
       "      <th>2274</th>\n",
       "      <td>20220405155225268</td>\n",
       "      <td>False</td>\n",
       "    </tr>\n",
       "    <tr>\n",
       "      <th>2275</th>\n",
       "      <td>20220405155225782</td>\n",
       "      <td>False</td>\n",
       "    </tr>\n",
       "    <tr>\n",
       "      <th>2276</th>\n",
       "      <td>20220405155226293</td>\n",
       "      <td>False</td>\n",
       "    </tr>\n",
       "    <tr>\n",
       "      <th>2277</th>\n",
       "      <td>20220405155226821</td>\n",
       "      <td>False</td>\n",
       "    </tr>\n",
       "  </tbody>\n",
       "</table>\n",
       "<p>2278 rows × 2 columns</p>\n",
       "</div>"
      ],
      "text/plain": [
       "                      0      0\n",
       "0     20220112135223100  False\n",
       "1     20220112135223950  False\n",
       "2     20220112135224733  False\n",
       "3     20220112135227836  False\n",
       "4     20220112135228589  False\n",
       "...                 ...    ...\n",
       "2273  20220405155224749  False\n",
       "2274  20220405155225268  False\n",
       "2275  20220405155225782  False\n",
       "2276  20220405155226293  False\n",
       "2277  20220405155226821  False\n",
       "\n",
       "[2278 rows x 2 columns]"
      ]
     },
     "execution_count": 27,
     "metadata": {},
     "output_type": "execute_result"
    }
   ],
   "source": [
    "origin"
   ]
  },
  {
   "cell_type": "code",
   "execution_count": 28,
   "id": "c82f3389-981f-4d27-a497-06676406c9e0",
   "metadata": {},
   "outputs": [],
   "source": [
    "origin.columns = ['img_name', 'result']"
   ]
  },
  {
   "cell_type": "code",
   "execution_count": 29,
   "id": "5b3888f1-56e4-4521-87e0-42e2041178ca",
   "metadata": {},
   "outputs": [
    {
     "data": {
      "text/html": [
       "<div>\n",
       "<style scoped>\n",
       "    .dataframe tbody tr th:only-of-type {\n",
       "        vertical-align: middle;\n",
       "    }\n",
       "\n",
       "    .dataframe tbody tr th {\n",
       "        vertical-align: top;\n",
       "    }\n",
       "\n",
       "    .dataframe thead th {\n",
       "        text-align: right;\n",
       "    }\n",
       "</style>\n",
       "<table border=\"1\" class=\"dataframe\">\n",
       "  <thead>\n",
       "    <tr style=\"text-align: right;\">\n",
       "      <th></th>\n",
       "      <th>img_name</th>\n",
       "      <th>result</th>\n",
       "    </tr>\n",
       "  </thead>\n",
       "  <tbody>\n",
       "    <tr>\n",
       "      <th>0</th>\n",
       "      <td>20220112135223100</td>\n",
       "      <td>False</td>\n",
       "    </tr>\n",
       "    <tr>\n",
       "      <th>1</th>\n",
       "      <td>20220112135223950</td>\n",
       "      <td>False</td>\n",
       "    </tr>\n",
       "    <tr>\n",
       "      <th>2</th>\n",
       "      <td>20220112135224733</td>\n",
       "      <td>False</td>\n",
       "    </tr>\n",
       "    <tr>\n",
       "      <th>3</th>\n",
       "      <td>20220112135227836</td>\n",
       "      <td>False</td>\n",
       "    </tr>\n",
       "    <tr>\n",
       "      <th>4</th>\n",
       "      <td>20220112135228589</td>\n",
       "      <td>False</td>\n",
       "    </tr>\n",
       "    <tr>\n",
       "      <th>...</th>\n",
       "      <td>...</td>\n",
       "      <td>...</td>\n",
       "    </tr>\n",
       "    <tr>\n",
       "      <th>2273</th>\n",
       "      <td>20220405155224749</td>\n",
       "      <td>False</td>\n",
       "    </tr>\n",
       "    <tr>\n",
       "      <th>2274</th>\n",
       "      <td>20220405155225268</td>\n",
       "      <td>False</td>\n",
       "    </tr>\n",
       "    <tr>\n",
       "      <th>2275</th>\n",
       "      <td>20220405155225782</td>\n",
       "      <td>False</td>\n",
       "    </tr>\n",
       "    <tr>\n",
       "      <th>2276</th>\n",
       "      <td>20220405155226293</td>\n",
       "      <td>False</td>\n",
       "    </tr>\n",
       "    <tr>\n",
       "      <th>2277</th>\n",
       "      <td>20220405155226821</td>\n",
       "      <td>False</td>\n",
       "    </tr>\n",
       "  </tbody>\n",
       "</table>\n",
       "<p>2278 rows × 2 columns</p>\n",
       "</div>"
      ],
      "text/plain": [
       "               img_name result\n",
       "0     20220112135223100  False\n",
       "1     20220112135223950  False\n",
       "2     20220112135224733  False\n",
       "3     20220112135227836  False\n",
       "4     20220112135228589  False\n",
       "...                 ...    ...\n",
       "2273  20220405155224749  False\n",
       "2274  20220405155225268  False\n",
       "2275  20220405155225782  False\n",
       "2276  20220405155226293  False\n",
       "2277  20220405155226821  False\n",
       "\n",
       "[2278 rows x 2 columns]"
      ]
     },
     "execution_count": 29,
     "metadata": {},
     "output_type": "execute_result"
    }
   ],
   "source": [
    "origin"
   ]
  },
  {
   "cell_type": "code",
   "execution_count": 33,
   "id": "8b99e28e-eadd-4992-87fd-917ad394330d",
   "metadata": {},
   "outputs": [],
   "source": [
    "origin_sort = origin.sort_values('img_name')\n",
    "origin_sort.to_csv('C:\\\\Users\\\\JungHyeona\\\\Documents\\\\Project\\\\AI_deeplearning\\\\image\\\\origin_result.csv', encoding='cp949')"
   ]
  },
  {
   "cell_type": "code",
   "execution_count": null,
   "id": "4e2f0dcd-23aa-4882-8627-3b6ed5f4e4aa",
   "metadata": {},
   "outputs": [],
   "source": []
  },
  {
   "cell_type": "markdown",
   "id": "86cfe611-4633-45cf-94de-0c3caac48077",
   "metadata": {},
   "source": [
    "# 원래 결과와 예측 결과 csv파일 합치기\n",
    "### 파일명에 따라서 값 저장할 예정."
   ]
  },
  {
   "cell_type": "code",
   "execution_count": 2,
   "id": "e1b92f7a-54d5-40ef-a71e-32b037299f21",
   "metadata": {},
   "outputs": [],
   "source": [
    "import pandas as pd\n",
    "\n",
    "import os"
   ]
  },
  {
   "cell_type": "code",
   "execution_count": 34,
   "id": "1d14a7a4-de7f-4034-82af-430b5e709d55",
   "metadata": {},
   "outputs": [],
   "source": [
    "predict_path = 'C:\\\\Users\\\\JungHyeona\\\\Documents\\\\Project\\\\AI_deeplearning\\\\image\\\\test_result04.csv'\n",
    "origin_path = 'C:\\\\Users\\\\JungHyeona\\\\Documents\\\\Project\\\\AI_deeplearning\\\\image\\\\origin_result.csv'\n",
    "\n",
    "pre = pd.read_csv(predict_path, index_col = 0, encoding='cp949')\n",
    "ori = pd.read_csv(origin_path, index_col = 0)"
   ]
  },
  {
   "cell_type": "code",
   "execution_count": 45,
   "id": "329f9c22-71f7-42d2-be7a-452e60245b85",
   "metadata": {},
   "outputs": [
    {
     "data": {
      "text/html": [
       "<div>\n",
       "<style scoped>\n",
       "    .dataframe tbody tr th:only-of-type {\n",
       "        vertical-align: middle;\n",
       "    }\n",
       "\n",
       "    .dataframe tbody tr th {\n",
       "        vertical-align: top;\n",
       "    }\n",
       "\n",
       "    .dataframe thead th {\n",
       "        text-align: right;\n",
       "    }\n",
       "</style>\n",
       "<table border=\"1\" class=\"dataframe\">\n",
       "  <thead>\n",
       "    <tr style=\"text-align: right;\">\n",
       "      <th></th>\n",
       "      <th>img_name</th>\n",
       "      <th>predict</th>\n",
       "    </tr>\n",
       "  </thead>\n",
       "  <tbody>\n",
       "    <tr>\n",
       "      <th>0</th>\n",
       "      <td>20220112135223100</td>\n",
       "      <td>False</td>\n",
       "    </tr>\n",
       "    <tr>\n",
       "      <th>1</th>\n",
       "      <td>20220112135223950</td>\n",
       "      <td>True</td>\n",
       "    </tr>\n",
       "    <tr>\n",
       "      <th>2</th>\n",
       "      <td>20220112135224733</td>\n",
       "      <td>True</td>\n",
       "    </tr>\n",
       "    <tr>\n",
       "      <th>3</th>\n",
       "      <td>20220112135227836</td>\n",
       "      <td>True</td>\n",
       "    </tr>\n",
       "    <tr>\n",
       "      <th>4</th>\n",
       "      <td>20220112135228589</td>\n",
       "      <td>True</td>\n",
       "    </tr>\n",
       "    <tr>\n",
       "      <th>...</th>\n",
       "      <td>...</td>\n",
       "      <td>...</td>\n",
       "    </tr>\n",
       "    <tr>\n",
       "      <th>459</th>\n",
       "      <td>20220407143316327</td>\n",
       "      <td>True</td>\n",
       "    </tr>\n",
       "    <tr>\n",
       "      <th>460</th>\n",
       "      <td>20220407143318327</td>\n",
       "      <td>True</td>\n",
       "    </tr>\n",
       "    <tr>\n",
       "      <th>461</th>\n",
       "      <td>20220407143320615</td>\n",
       "      <td>False</td>\n",
       "    </tr>\n",
       "    <tr>\n",
       "      <th>462</th>\n",
       "      <td>20220407143322679</td>\n",
       "      <td>False</td>\n",
       "    </tr>\n",
       "    <tr>\n",
       "      <th>463</th>\n",
       "      <td>20220407143324999</td>\n",
       "      <td>False</td>\n",
       "    </tr>\n",
       "  </tbody>\n",
       "</table>\n",
       "<p>2278 rows × 2 columns</p>\n",
       "</div>"
      ],
      "text/plain": [
       "              img_name  predict\n",
       "0    20220112135223100    False\n",
       "1    20220112135223950     True\n",
       "2    20220112135224733     True\n",
       "3    20220112135227836     True\n",
       "4    20220112135228589     True\n",
       "..                 ...      ...\n",
       "459  20220407143316327     True\n",
       "460  20220407143318327     True\n",
       "461  20220407143320615    False\n",
       "462  20220407143322679    False\n",
       "463  20220407143324999    False\n",
       "\n",
       "[2278 rows x 2 columns]"
      ]
     },
     "execution_count": 45,
     "metadata": {},
     "output_type": "execute_result"
    }
   ],
   "source": [
    "pre\n",
    "\n",
    "#sort가 되어있지 않아서, sort_values로 sort 후 다시 저장\n",
    "#pre_sort = pre.sort_values('img_name')"
   ]
  },
  {
   "cell_type": "code",
   "execution_count": 44,
   "id": "c26e18a5-a65c-455e-996d-f1f69e147f4a",
   "metadata": {},
   "outputs": [
    {
     "data": {
      "text/html": [
       "<div>\n",
       "<style scoped>\n",
       "    .dataframe tbody tr th:only-of-type {\n",
       "        vertical-align: middle;\n",
       "    }\n",
       "\n",
       "    .dataframe tbody tr th {\n",
       "        vertical-align: top;\n",
       "    }\n",
       "\n",
       "    .dataframe thead th {\n",
       "        text-align: right;\n",
       "    }\n",
       "</style>\n",
       "<table border=\"1\" class=\"dataframe\">\n",
       "  <thead>\n",
       "    <tr style=\"text-align: right;\">\n",
       "      <th></th>\n",
       "      <th>img_name</th>\n",
       "      <th>result</th>\n",
       "    </tr>\n",
       "  </thead>\n",
       "  <tbody>\n",
       "    <tr>\n",
       "      <th>0</th>\n",
       "      <td>20220112135223100</td>\n",
       "      <td>False</td>\n",
       "    </tr>\n",
       "    <tr>\n",
       "      <th>1</th>\n",
       "      <td>20220112135223950</td>\n",
       "      <td>False</td>\n",
       "    </tr>\n",
       "    <tr>\n",
       "      <th>2</th>\n",
       "      <td>20220112135224733</td>\n",
       "      <td>False</td>\n",
       "    </tr>\n",
       "    <tr>\n",
       "      <th>3</th>\n",
       "      <td>20220112135227836</td>\n",
       "      <td>False</td>\n",
       "    </tr>\n",
       "    <tr>\n",
       "      <th>4</th>\n",
       "      <td>20220112135228589</td>\n",
       "      <td>False</td>\n",
       "    </tr>\n",
       "    <tr>\n",
       "      <th>...</th>\n",
       "      <td>...</td>\n",
       "      <td>...</td>\n",
       "    </tr>\n",
       "    <tr>\n",
       "      <th>459</th>\n",
       "      <td>20220407143316327</td>\n",
       "      <td>False</td>\n",
       "    </tr>\n",
       "    <tr>\n",
       "      <th>460</th>\n",
       "      <td>20220407143318327</td>\n",
       "      <td>False</td>\n",
       "    </tr>\n",
       "    <tr>\n",
       "      <th>461</th>\n",
       "      <td>20220407143320615</td>\n",
       "      <td>False</td>\n",
       "    </tr>\n",
       "    <tr>\n",
       "      <th>462</th>\n",
       "      <td>20220407143322679</td>\n",
       "      <td>False</td>\n",
       "    </tr>\n",
       "    <tr>\n",
       "      <th>463</th>\n",
       "      <td>20220407143324999</td>\n",
       "      <td>False</td>\n",
       "    </tr>\n",
       "  </tbody>\n",
       "</table>\n",
       "<p>2278 rows × 2 columns</p>\n",
       "</div>"
      ],
      "text/plain": [
       "              img_name  result\n",
       "0    20220112135223100   False\n",
       "1    20220112135223950   False\n",
       "2    20220112135224733   False\n",
       "3    20220112135227836   False\n",
       "4    20220112135228589   False\n",
       "..                 ...     ...\n",
       "459  20220407143316327   False\n",
       "460  20220407143318327   False\n",
       "461  20220407143320615   False\n",
       "462  20220407143322679   False\n",
       "463  20220407143324999   False\n",
       "\n",
       "[2278 rows x 2 columns]"
      ]
     },
     "execution_count": 44,
     "metadata": {},
     "output_type": "execute_result"
    }
   ],
   "source": [
    "#pd.set_option('display.float_format', '{:.0f}'.format)  ->  2.022E +16을 2022~100과 같이 보일 수 있도록 조정.\n",
    "ori\n",
    "\n",
    "#sort가 되어있지 않아서, sort_values로 sort 후 다시 저장\n",
    "#ori_sort = ori.sort_values('img_name')"
   ]
  },
  {
   "cell_type": "code",
   "execution_count": 37,
   "id": "c3c8ccbe-4a33-41ed-a0b9-ff2bc1b052d4",
   "metadata": {},
   "outputs": [
    {
     "data": {
      "text/plain": [
       "True     1881\n",
       "False     397\n",
       "Name: predict, dtype: int64"
      ]
     },
     "execution_count": 37,
     "metadata": {},
     "output_type": "execute_result"
    }
   ],
   "source": [
    "pre['predict'].value_counts()"
   ]
  },
  {
   "cell_type": "code",
   "execution_count": 38,
   "id": "0a072617-b7e3-43b6-a6d3-5aae6dd5e43f",
   "metadata": {},
   "outputs": [
    {
     "data": {
      "text/plain": [
       "True     1514\n",
       "False     764\n",
       "Name: result, dtype: int64"
      ]
     },
     "execution_count": 38,
     "metadata": {},
     "output_type": "execute_result"
    }
   ],
   "source": [
    "ori['result'].value_counts()"
   ]
  },
  {
   "cell_type": "markdown",
   "id": "c213227a-33e6-43f3-a909-152e18d5d904",
   "metadata": {},
   "source": [
    "# 두개의 값을 합치기"
   ]
  },
  {
   "cell_type": "code",
   "execution_count": 48,
   "id": "104aee8b-4920-43ae-b73a-927eda2e951a",
   "metadata": {},
   "outputs": [],
   "source": [
    "merge_df = pd.merge(ori, pre, on='img_name', how='right')"
   ]
  },
  {
   "cell_type": "code",
   "execution_count": 49,
   "id": "094b235e-57ce-4b2b-af53-043daacd128e",
   "metadata": {},
   "outputs": [
    {
     "data": {
      "text/html": [
       "<div>\n",
       "<style scoped>\n",
       "    .dataframe tbody tr th:only-of-type {\n",
       "        vertical-align: middle;\n",
       "    }\n",
       "\n",
       "    .dataframe tbody tr th {\n",
       "        vertical-align: top;\n",
       "    }\n",
       "\n",
       "    .dataframe thead th {\n",
       "        text-align: right;\n",
       "    }\n",
       "</style>\n",
       "<table border=\"1\" class=\"dataframe\">\n",
       "  <thead>\n",
       "    <tr style=\"text-align: right;\">\n",
       "      <th></th>\n",
       "      <th>img_name</th>\n",
       "      <th>result</th>\n",
       "      <th>predict</th>\n",
       "    </tr>\n",
       "  </thead>\n",
       "  <tbody>\n",
       "    <tr>\n",
       "      <th>0</th>\n",
       "      <td>20220112135223100</td>\n",
       "      <td>False</td>\n",
       "      <td>False</td>\n",
       "    </tr>\n",
       "    <tr>\n",
       "      <th>1</th>\n",
       "      <td>20220112135223950</td>\n",
       "      <td>False</td>\n",
       "      <td>True</td>\n",
       "    </tr>\n",
       "    <tr>\n",
       "      <th>2</th>\n",
       "      <td>20220112135224733</td>\n",
       "      <td>False</td>\n",
       "      <td>True</td>\n",
       "    </tr>\n",
       "    <tr>\n",
       "      <th>3</th>\n",
       "      <td>20220112135227836</td>\n",
       "      <td>False</td>\n",
       "      <td>True</td>\n",
       "    </tr>\n",
       "    <tr>\n",
       "      <th>4</th>\n",
       "      <td>20220112135228589</td>\n",
       "      <td>False</td>\n",
       "      <td>True</td>\n",
       "    </tr>\n",
       "    <tr>\n",
       "      <th>...</th>\n",
       "      <td>...</td>\n",
       "      <td>...</td>\n",
       "      <td>...</td>\n",
       "    </tr>\n",
       "    <tr>\n",
       "      <th>2355</th>\n",
       "      <td>20220407143316327</td>\n",
       "      <td>False</td>\n",
       "      <td>True</td>\n",
       "    </tr>\n",
       "    <tr>\n",
       "      <th>2356</th>\n",
       "      <td>20220407143318327</td>\n",
       "      <td>False</td>\n",
       "      <td>True</td>\n",
       "    </tr>\n",
       "    <tr>\n",
       "      <th>2357</th>\n",
       "      <td>20220407143320615</td>\n",
       "      <td>False</td>\n",
       "      <td>False</td>\n",
       "    </tr>\n",
       "    <tr>\n",
       "      <th>2358</th>\n",
       "      <td>20220407143322679</td>\n",
       "      <td>False</td>\n",
       "      <td>False</td>\n",
       "    </tr>\n",
       "    <tr>\n",
       "      <th>2359</th>\n",
       "      <td>20220407143324999</td>\n",
       "      <td>False</td>\n",
       "      <td>False</td>\n",
       "    </tr>\n",
       "  </tbody>\n",
       "</table>\n",
       "<p>2360 rows × 3 columns</p>\n",
       "</div>"
      ],
      "text/plain": [
       "               img_name  result  predict\n",
       "0     20220112135223100   False    False\n",
       "1     20220112135223950   False     True\n",
       "2     20220112135224733   False     True\n",
       "3     20220112135227836   False     True\n",
       "4     20220112135228589   False     True\n",
       "...                 ...     ...      ...\n",
       "2355  20220407143316327   False     True\n",
       "2356  20220407143318327   False     True\n",
       "2357  20220407143320615   False    False\n",
       "2358  20220407143322679   False    False\n",
       "2359  20220407143324999   False    False\n",
       "\n",
       "[2360 rows x 3 columns]"
      ]
     },
     "execution_count": 49,
     "metadata": {},
     "output_type": "execute_result"
    }
   ],
   "source": [
    "merge_df"
   ]
  },
  {
   "cell_type": "code",
   "execution_count": 50,
   "id": "b60ebf23-27a5-4785-9da5-fc65ad820b83",
   "metadata": {},
   "outputs": [
    {
     "data": {
      "text/plain": [
       "True     1935\n",
       "False     425\n",
       "Name: predict, dtype: int64"
      ]
     },
     "execution_count": 50,
     "metadata": {},
     "output_type": "execute_result"
    }
   ],
   "source": [
    "merge_df['predict'].value_counts()"
   ]
  },
  {
   "cell_type": "code",
   "execution_count": 51,
   "id": "137000bc-cb87-4f63-907f-9c7129404b08",
   "metadata": {},
   "outputs": [],
   "source": [
    "merge_df.to_csv('C:\\\\Users\\\\JungHyeona\\\\Documents\\\\Project\\\\AI_deeplearning\\\\image\\\\result.csv', encoding='cp949')"
   ]
  },
  {
   "cell_type": "code",
   "execution_count": null,
   "id": "8f6ae2bb-0e3e-4268-bd9b-4c07593aaa2f",
   "metadata": {},
   "outputs": [],
   "source": []
  },
  {
   "cell_type": "markdown",
   "id": "09dfa8c9-1423-43cf-8cbb-10aaeda30e0e",
   "metadata": {},
   "source": [
    "# 최종 csv파일 불러오기."
   ]
  },
  {
   "cell_type": "code",
   "execution_count": 19,
   "id": "49ed4427-5a2d-48ad-a0ea-77d2cb17bb11",
   "metadata": {},
   "outputs": [],
   "source": [
    "result_path = 'C:\\\\Users\\\\JungHyeona\\\\Documents\\\\Project\\\\AI_deeplearning\\\\image\\\\result.csv'"
   ]
  },
  {
   "cell_type": "code",
   "execution_count": 20,
   "id": "9ae93ee2-dc04-4171-988f-cb3952a16b79",
   "metadata": {},
   "outputs": [],
   "source": [
    "re = pd.read_csv(result_path, index_col = 0)"
   ]
  },
  {
   "cell_type": "code",
   "execution_count": 21,
   "id": "f2a15bcc-7d16-45b4-ba5f-ee6bd3841713",
   "metadata": {},
   "outputs": [
    {
     "data": {
      "text/html": [
       "<div>\n",
       "<style scoped>\n",
       "    .dataframe tbody tr th:only-of-type {\n",
       "        vertical-align: middle;\n",
       "    }\n",
       "\n",
       "    .dataframe tbody tr th {\n",
       "        vertical-align: top;\n",
       "    }\n",
       "\n",
       "    .dataframe thead th {\n",
       "        text-align: right;\n",
       "    }\n",
       "</style>\n",
       "<table border=\"1\" class=\"dataframe\">\n",
       "  <thead>\n",
       "    <tr style=\"text-align: right;\">\n",
       "      <th></th>\n",
       "      <th>img_name</th>\n",
       "      <th>result</th>\n",
       "      <th>predict</th>\n",
       "    </tr>\n",
       "  </thead>\n",
       "  <tbody>\n",
       "    <tr>\n",
       "      <th>0</th>\n",
       "      <td>2022011213595468</td>\n",
       "      <td>False</td>\n",
       "      <td>True</td>\n",
       "    </tr>\n",
       "    <tr>\n",
       "      <th>1</th>\n",
       "      <td>2022011214000031</td>\n",
       "      <td>False</td>\n",
       "      <td>True</td>\n",
       "    </tr>\n",
       "    <tr>\n",
       "      <th>2</th>\n",
       "      <td>2022012115494905</td>\n",
       "      <td>False</td>\n",
       "      <td>True</td>\n",
       "    </tr>\n",
       "    <tr>\n",
       "      <th>3</th>\n",
       "      <td>2022012115495094</td>\n",
       "      <td>False</td>\n",
       "      <td>True</td>\n",
       "    </tr>\n",
       "    <tr>\n",
       "      <th>4</th>\n",
       "      <td>2022012115495106</td>\n",
       "      <td>False</td>\n",
       "      <td>True</td>\n",
       "    </tr>\n",
       "    <tr>\n",
       "      <th>...</th>\n",
       "      <td>...</td>\n",
       "      <td>...</td>\n",
       "      <td>...</td>\n",
       "    </tr>\n",
       "    <tr>\n",
       "      <th>2281</th>\n",
       "      <td>20220407143325000</td>\n",
       "      <td>False</td>\n",
       "      <td>NaN</td>\n",
       "    </tr>\n",
       "    <tr>\n",
       "      <th>2282</th>\n",
       "      <td>NaN</td>\n",
       "      <td>False</td>\n",
       "      <td>NaN</td>\n",
       "    </tr>\n",
       "    <tr>\n",
       "      <th>2283</th>\n",
       "      <td>NaN</td>\n",
       "      <td>False</td>\n",
       "      <td>NaN</td>\n",
       "    </tr>\n",
       "    <tr>\n",
       "      <th>2284</th>\n",
       "      <td>NaN</td>\n",
       "      <td>False</td>\n",
       "      <td>NaN</td>\n",
       "    </tr>\n",
       "    <tr>\n",
       "      <th>2285</th>\n",
       "      <td>NaN</td>\n",
       "      <td>False</td>\n",
       "      <td>NaN</td>\n",
       "    </tr>\n",
       "  </tbody>\n",
       "</table>\n",
       "<p>2286 rows × 3 columns</p>\n",
       "</div>"
      ],
      "text/plain": [
       "              img_name  result predict\n",
       "0     2022011213595468   False    True\n",
       "1     2022011214000031   False    True\n",
       "2     2022012115494905   False    True\n",
       "3     2022012115495094   False    True\n",
       "4     2022012115495106   False    True\n",
       "...                ...     ...     ...\n",
       "2281 20220407143325000   False     NaN\n",
       "2282               NaN   False     NaN\n",
       "2283               NaN   False     NaN\n",
       "2284               NaN   False     NaN\n",
       "2285               NaN   False     NaN\n",
       "\n",
       "[2286 rows x 3 columns]"
      ]
     },
     "execution_count": 21,
     "metadata": {},
     "output_type": "execute_result"
    }
   ],
   "source": [
    "re"
   ]
  },
  {
   "cell_type": "code",
   "execution_count": 22,
   "id": "d982c301-f63b-4113-884e-cfcaf4a71a01",
   "metadata": {},
   "outputs": [
    {
     "data": {
      "text/plain": [
       "True     601\n",
       "False     14\n",
       "Name: predict, dtype: int64"
      ]
     },
     "execution_count": 22,
     "metadata": {},
     "output_type": "execute_result"
    }
   ],
   "source": [
    "re['predict'].value_counts()"
   ]
  },
  {
   "cell_type": "code",
   "execution_count": null,
   "id": "f33ff0da-2299-4c98-9b10-e74ed97afcf8",
   "metadata": {},
   "outputs": [],
   "source": []
  }
 ],
 "metadata": {
  "kernelspec": {
   "display_name": "Python 3 (ipykernel)",
   "language": "python",
   "name": "python3"
  },
  "language_info": {
   "codemirror_mode": {
    "name": "ipython",
    "version": 3
   },
   "file_extension": ".py",
   "mimetype": "text/x-python",
   "name": "python",
   "nbconvert_exporter": "python",
   "pygments_lexer": "ipython3",
   "version": "3.9.13"
  }
 },
 "nbformat": 4,
 "nbformat_minor": 5
}
