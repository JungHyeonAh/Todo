{
 "cells": [
  {
   "cell_type": "code",
   "execution_count": 10,
   "id": "63f64281-5cad-4269-b0fd-9273464c6012",
   "metadata": {},
   "outputs": [],
   "source": [
    "import torch\n",
    "import torch.nn as nn\n",
    "import torchvision\n",
    "import torchvision.transforms as transforms\n",
    "from torch.utils.data import DataLoader, Dataset\n",
    "\n",
    "import os\n",
    "import numpy as np\n",
    "from PIL import Image\n",
    "import glob\n",
    "\n",
    "from sklearn.model_selection import train_test_split\n",
    "#import splitfolders  # 데이터를 train, val, test폴더로 분리\n",
    "from tqdm import trange, notebook"
   ]
  },
  {
   "cell_type": "code",
   "execution_count": 2,
   "id": "828c8f59-2423-4f8f-8df6-5bfc55d9773b",
   "metadata": {},
   "outputs": [],
   "source": [
    "# 데이터 폴더 경로\n",
    "path = 'C:\\\\Users\\\\JungHyeona\\\\Documents\\\\Project\\\\AI_deeplearning\\\\image'"
   ]
  },
  {
   "cell_type": "code",
   "execution_count": 3,
   "id": "c0d9820e-d7e0-4968-a58c-42d456c80dc5",
   "metadata": {},
   "outputs": [],
   "source": [
    "class CustomDataset(Dataset):\n",
    "    def __init__(self, images, labels, transform=None):\n",
    "        self.images = images\n",
    "        self.labels = labels\n",
    "        self.transform = transform\n",
    "        \n",
    "    def __len__(self):\n",
    "        return len(self.images)\n",
    "    \n",
    "    def __getitem__(self, index):\n",
    "        img = self.images[index]\n",
    "        label = self.labels[index]\n",
    "        \n",
    "        if self.transform is not None:\n",
    "            img = self.transform(img)\n",
    "            \n",
    "        return img, label"
   ]
  },
  {
   "cell_type": "code",
   "execution_count": 4,
   "id": "e143f00a-60b9-4e8e-a5cf-1d9d2a3cbc70",
   "metadata": {
    "tags": []
   },
   "outputs": [],
   "source": [
    "images = []\n",
    "labels = []\n",
    "\n",
    "for for_name in os.listdir(path):  # i = ['Broken', 'Normal']\n",
    "    forder = os.path.join(path, for_name)  # ex) path/Normal\n",
    "\n",
    "    for j in os.listdir(forder):\n",
    "        file = os.path.join(forder, j)  # ex) path/Normal/a.png\n",
    "        \n",
    "        image = Image.open(file)\n",
    "        label = os.path.basename(os.path.dirname(file))\n",
    "        \n",
    "        images.append(image)\n",
    "        labels.append(label)"
   ]
  },
  {
   "cell_type": "code",
   "execution_count": 5,
   "id": "020fcc57-a249-4cf5-9f77-950896d0beff",
   "metadata": {},
   "outputs": [],
   "source": [
    "# 라벨 값 변경\n",
    "for i in range(len(labels)):\n",
    "    if labels[i] == 'Normal':\n",
    "        labels[i] = 0\n",
    "    else:\n",
    "        labels[i] = 1"
   ]
  },
  {
   "cell_type": "code",
   "execution_count": 6,
   "id": "f85db179-0119-4597-af0c-be6e27246e42",
   "metadata": {},
   "outputs": [
    {
     "data": {
      "text/plain": [
       "2110"
      ]
     },
     "execution_count": 6,
     "metadata": {},
     "output_type": "execute_result"
    }
   ],
   "source": [
    "len(labels)"
   ]
  },
  {
   "cell_type": "code",
   "execution_count": 21,
   "id": "65356c96-07a4-4603-9ec2-6327493f708c",
   "metadata": {},
   "outputs": [],
   "source": [
    "# 데이터 전처리\n",
    "transform = transforms.Compose([\n",
    "     transforms.Resize((32, 32)),\n",
    "     transforms.ToTensor(),\n",
    "     transforms.Normalize((0.111850675, 0.11192831, 0.11306531), (0.029490899, 0.0293483175, 0.029255329999999996))])"
   ]
  },
  {
   "cell_type": "code",
   "execution_count": 22,
   "id": "dd9eae75-142a-4302-924d-3a084d68cf08",
   "metadata": {},
   "outputs": [],
   "source": [
    "# 데이터셋 인스턴스 생성\n",
    "dataset = CustomDataset(images, labels, transform=transform)"
   ]
  },
  {
   "cell_type": "code",
   "execution_count": 23,
   "id": "2271c921-2020-47cd-817d-3e14fa1b103e",
   "metadata": {},
   "outputs": [],
   "source": [
    "# 데이터셋을 train, validation, test로 분리\n",
    "train_dataset, test_dataset = train_test_split(dataset, test_size=0.1, random_state=42)\n",
    "train_dataset, val_dataset = train_test_split(train_dataset, test_size=0.1, random_state=42)"
   ]
  },
  {
   "cell_type": "code",
   "execution_count": 24,
   "id": "a30580a7-09dc-4161-a6e4-7d8ec9a0bf39",
   "metadata": {},
   "outputs": [],
   "source": [
    "# DataLoader를 통해 데이터를 불러올 수 있도록 설정\n",
    "train_loader = DataLoader(train_dataset, batch_size=32, shuffle=True, num_workers=4)\n",
    "val_loader = DataLoader(val_dataset, batch_size=32, shuffle=False, num_workers=4)\n",
    "test_loader = DataLoader(test_dataset, batch_size=32, shuffle=False, num_workers=4)"
   ]
  },
  {
   "cell_type": "markdown",
   "id": "28a4ca98-c79d-4592-8658-8d48eb78b6e2",
   "metadata": {},
   "source": [
    "# 모델"
   ]
  },
  {
   "cell_type": "code",
   "execution_count": 13,
   "id": "da70f462-a7b0-4420-aff2-5944378d67d1",
   "metadata": {
    "jupyter": {
     "source_hidden": true
    },
    "tags": []
   },
   "outputs": [],
   "source": [
    "class CNN(nn.Module):\n",
    "    def __init__(self):\n",
    "        super(CNN, self).__init__()\n",
    "        \n",
    "        self.model = nn.Sequential(\n",
    "            # (32, 32, 3) -> (32, 32, 32), (16, 16, 32)\n",
    "            nn.Conv2d(3, 64, kernel_size=(3, 3), padding=1, stride=1),\n",
    "            nn.ReLU(),\n",
    "            nn.MaxPool2d((2, 2)),\n",
    "            \n",
    "            # (16, 16, 32) -> (16, 16, 64) -> (8, 8, 64)\n",
    "            nn.Conv2d(32, 64, kernel_size=(3, 3), padding=1, stride=1),\n",
    "            nn.ReLU(),\n",
    "            nn.MaxPool2d((2, 2)),\n",
    "            \n",
    "            # (8, 8, 64) -> (8, 8, 128) -> (4, 4, 128)\n",
    "            nn.Conv2d(64, 128, kernel_size=(3, 3), padding=1, stride=1),\n",
    "            nn.ReLU(),\n",
    "            nn.MaxPool2d((2, 2)),\n",
    "            \n",
    "            nn.Flatten(),\n",
    "            nn.Linear(4*4*128, 18),\n",
    "            nn.Linear(18, 3)\n",
    "        )\n",
    "        \n",
    "\n",
    "    def forward(self,x):\n",
    "    \t# self.layer에 정의한 연산 수행\n",
    "        out = self.model(x)\n",
    "        return out"
   ]
  },
  {
   "cell_type": "code",
   "execution_count": 25,
   "id": "f28e77c1-b53f-4ebf-a78c-144abfc60f23",
   "metadata": {},
   "outputs": [],
   "source": [
    "# B모드\n",
    "class CNN(nn.Module):\n",
    "    \n",
    "    def __init__(self):\n",
    "        \n",
    "        super(CNN, self).__init__()\n",
    "        self.model = nn.Sequential(\n",
    "            # (3, 32, 32) -> (32, 32, 32)\n",
    "            nn.Conv2d(3, 32, kernel_size=3, stride=1, padding=1),  #cnn layer\n",
    "            nn.ReLU(),\n",
    "            nn.BatchNorm2d(32),    #batch layer\n",
    "            nn.MaxPool2d(kernel_size=2, stride=2),    #pooling layer  (32, 16, 16)\n",
    "\n",
    "            # (32, 16, 16) -> (64, 16, 16)\n",
    "            nn.Conv2d(32, 64, kernel_size=3, stride=1, padding=1),  #cnn layer\n",
    "            nn.ReLU(),\n",
    "            nn.BatchNorm2d(64),    #batch layer\n",
    "            nn.MaxPool2d(kernel_size=2),    #pooling layer  (64, 8, 8)\n",
    "            \n",
    "            # (64, 8, 8) -> (128, 8, 8)\n",
    "            nn.Conv2d(64, 128, kernel_size=3, stride=1, padding=1),  #cnn layer\n",
    "            nn.ReLU(),\n",
    "            nn.BatchNorm2d(128),    #batch layer\n",
    "            nn.MaxPool2d(kernel_size=2),    #pooling layer  (128, 4, 4)\n",
    "            nn.Dropout2d(p=0.5),\n",
    "            \n",
    "            nn.Flatten(),\n",
    "            nn.Linear(128*4*4, 100),\n",
    "            nn.ReLU(),\n",
    "            nn.Linear(100, 2)\n",
    "        )\n",
    "\n",
    "\n",
    "    def forward(self, x):\n",
    "        out = self.model(x)l\n",
    "        return out"
   ]
  },
  {
   "cell_type": "code",
   "execution_count": 34,
   "id": "502f156a-18b6-4426-b696-3d0eb80188d8",
   "metadata": {
    "tags": []
   },
   "outputs": [],
   "source": [
    "model = CNN()"
   ]
  },
  {
   "cell_type": "markdown",
   "id": "e0b8a5c5-4768-46b2-95e4-1a2c73864b8f",
   "metadata": {
    "jupyter": {
     "source_hidden": true
    },
    "tags": []
   },
   "source": [
    "# GPU 사용 가능 여부에 따라 디바이스 설정\n",
    "device = \"cuda\" if torch.cuda.is_available() else \"cpu\"\n",
    "print(f\"Using {device} device\")\n",
    "\n",
    "model.to(device)"
   ]
  },
  {
   "cell_type": "code",
   "execution_count": 15,
   "id": "0ba5a293-c130-4dff-9c2b-e1aae9e6619e",
   "metadata": {},
   "outputs": [],
   "source": [
    "loss_func = nn.CrossEntropyLoss()\n",
    "learning_rate = 0.0002\n",
    "optimizer = torch.optim.RMSprop(model.parameters(), lr=learning_rate)"
   ]
  },
  {
   "cell_type": "code",
   "execution_count": 27,
   "id": "d9d4c3a2-1e74-4580-be7d-0f241e35d39b",
   "metadata": {},
   "outputs": [
    {
     "name": "stdout",
     "output_type": "stream",
     "text": [
      "총 배치의 수 : 54\n"
     ]
    },
    {
     "data": {
      "application/vnd.jupyter.widget-view+json": {
       "model_id": "913c0eebfb8945be8a8a82b87ad56f8e",
       "version_major": 2,
       "version_minor": 0
      },
      "text/plain": [
       "  0%|          | 0/10 [00:00<?, ?it/s]"
      ]
     },
     "metadata": {},
     "output_type": "display_data"
    },
    {
     "name": "stdout",
     "output_type": "stream",
     "text": [
      "[Epoch:    1] cost = 0.650311768\n",
      "[Epoch:    2] cost = 0.650252938\n",
      "[Epoch:    3] cost = 0.656199515\n",
      "[Epoch:    4] cost = 0.643773794\n",
      "[Epoch:    5] cost = 0.640102267\n",
      "[Epoch:    6] cost = 0.644215703\n",
      "[Epoch:    7] cost = 0.66146642\n",
      "[Epoch:    8] cost = 0.647153735\n",
      "[Epoch:    9] cost = 0.653293014\n",
      "[Epoch:   10] cost = 0.651719987\n"
     ]
    }
   ],
   "source": [
    "total_batch = len(train_loader)\n",
    "print('총 배치의 수 : {}'.format(total_batch))\n",
    "\n",
    "num_epochs = 10\n",
    "for epoch in notebook.tqdm(range(num_epochs)):\n",
    "    avg_cost = 0\n",
    "\n",
    "    for X, Y in train_loader: # 미니 배치 단위로 꺼내온다. X는 미니 배치, Y는 레이블.\n",
    "        # image is already size of (28x28), no reshape\n",
    "        # label is not one-hot encoded\n",
    "        X = X#.to(device)\n",
    "        Y = Y#.to(device)\n",
    "\n",
    "        optimizer.zero_grad()\n",
    "        hypothesis = model(X)\n",
    "        cost = loss_func(hypothesis, Y)\n",
    "        cost.backward()\n",
    "        optimizer.step()\n",
    "\n",
    "        avg_cost += cost / total_batch\n",
    "\n",
    "    print('[Epoch: {:>4}] cost = {:>.9}'.format(epoch + 1, avg_cost))"
   ]
  },
  {
   "cell_type": "code",
   "execution_count": 37,
   "id": "7d7759d2-04a6-4cb1-85ce-7d9f6bab44b7",
   "metadata": {},
   "outputs": [
    {
     "data": {
      "application/vnd.jupyter.widget-view+json": {
       "model_id": "caee5e98a7254ecf829f018845dd0d80",
       "version_major": 2,
       "version_minor": 0
      },
      "text/plain": [
       "  0%|          | 0/3 [00:00<?, ?it/s]"
      ]
     },
     "metadata": {},
     "output_type": "display_data"
    },
    {
     "ename": "NameError",
     "evalue": "name 'trainset' is not defined",
     "output_type": "error",
     "traceback": [
      "\u001b[1;31m---------------------------------------------------------------------------\u001b[0m",
      "\u001b[1;31mNameError\u001b[0m                                 Traceback (most recent call last)",
      "\u001b[1;32m~\\AppData\\Local\\Temp\\ipykernel_19252\\3867614713.py\u001b[0m in \u001b[0;36m<module>\u001b[1;34m\u001b[0m\n\u001b[0;32m     28\u001b[0m         \u001b[0mrunning_loss\u001b[0m \u001b[1;33m+=\u001b[0m \u001b[0mloss\u001b[0m\u001b[1;33m.\u001b[0m\u001b[0mitem\u001b[0m\u001b[1;33m(\u001b[0m\u001b[1;33m)\u001b[0m \u001b[1;33m*\u001b[0m \u001b[0mimages\u001b[0m\u001b[1;33m.\u001b[0m\u001b[0msize\u001b[0m\u001b[1;33m(\u001b[0m\u001b[1;36m0\u001b[0m\u001b[1;33m)\u001b[0m\u001b[1;33m\u001b[0m\u001b[1;33m\u001b[0m\u001b[0m\n\u001b[0;32m     29\u001b[0m \u001b[1;33m\u001b[0m\u001b[0m\n\u001b[1;32m---> 30\u001b[1;33m     \u001b[0mepoch_loss\u001b[0m \u001b[1;33m=\u001b[0m \u001b[0mrunning_loss\u001b[0m \u001b[1;33m/\u001b[0m \u001b[0mlen\u001b[0m\u001b[1;33m(\u001b[0m\u001b[0mtrainset\u001b[0m\u001b[1;33m)\u001b[0m\u001b[1;33m\u001b[0m\u001b[1;33m\u001b[0m\u001b[0m\n\u001b[0m\u001b[0;32m     31\u001b[0m     \u001b[0mepoch_accuracy\u001b[0m \u001b[1;33m=\u001b[0m \u001b[0mcorrect_predictions\u001b[0m \u001b[1;33m/\u001b[0m \u001b[0mtotal_predictions\u001b[0m \u001b[1;33m*\u001b[0m \u001b[1;36m100\u001b[0m\u001b[1;33m\u001b[0m\u001b[1;33m\u001b[0m\u001b[0m\n\u001b[0;32m     32\u001b[0m \u001b[1;33m\u001b[0m\u001b[0m\n",
      "\u001b[1;31mNameError\u001b[0m: name 'trainset' is not defined"
     ]
    }
   ],
   "source": [
    "# 모델 훈련\n",
    "num_epochs = 3\n",
    "\n",
    "for epoch in notebook.tqdm(range(num_epochs)):\n",
    "    running_loss = 0.0\n",
    "    correct_predictions = 0\n",
    "    total_predictions = 0\n",
    "    \n",
    "    for images, labels in train_loader:\n",
    "        images = images#.to(device)\n",
    "        labels = labels#.to(device)\n",
    "        \n",
    "        # 순전파\n",
    "        outputs = model(images)\n",
    "        loss = loss_func(outputs, labels)\n",
    "        \n",
    "        # 역전파 및 최적화\n",
    "        optimizer.zero_grad()\n",
    "        loss.backward()\n",
    "        optimizer.step()\n",
    "        \n",
    "        # 정확도 계산\n",
    "        _, predicted = torch.max(outputs, 1)\n",
    "        correct_predictions += (predicted == labels).sum().item()\n",
    "        total_predictions += labels.size(0)\n",
    "        \n",
    "        # 통계 출력\n",
    "        running_loss += loss.item() * images.size(0)\n",
    "    \n",
    "    epoch_loss = running_loss / len(train_dataset)\n",
    "    epoch_accuracy = correct_predictions / total_predictions * 100\n",
    "    \n",
    "    print(f'Epoch {epoch+1}/{num_epochs} - Loss: {epoch_loss:.4f} - Accuracy: {epoch_accuracy:.2f}%')"
   ]
  },
  {
   "cell_type": "code",
   "execution_count": 32,
   "id": "1913f239-7baa-46d0-978b-206c99ed3901",
   "metadata": {},
   "outputs": [],
   "source": [
    "# 모델 평가 함수\n",
    "# def evaluate(model, dataloader, device):\n",
    "def evaluate(model, dataloader):\n",
    "    model.eval()\n",
    "    correct = 0\n",
    "    total = 0\n",
    "    with torch.no_grad():\n",
    "        for inputs, labels in dataloader:\n",
    "            #inputs, labels = inputs.to(device), labels.to(device)\n",
    "            inputs, labels = inputs, labels\n",
    "            outputs = model(inputs)\n",
    "            _, predicted = outputs.max(1)\n",
    "            total += labels.size(0)\n",
    "            correct += predicted.eq(labels).sum().item()\n",
    "    accuracy = 100 * correct / total\n",
    "    return accuracy"
   ]
  },
  {
   "cell_type": "code",
   "execution_count": 29,
   "id": "774548ed-9805-4cb1-a0d5-58ee9d4ef9ed",
   "metadata": {},
   "outputs": [
    {
     "name": "stdout",
     "output_type": "stream",
     "text": [
      "Validation Accuracy: 68.95%\n"
     ]
    }
   ],
   "source": [
    "# 모델 평가 : cuda로 cpu사용 시\n",
    "device = torch.device(\"cuda\" if torch.cuda.is_available() else \"cpu\")\n",
    "model.to(device)\n",
    "val_accuracy = evaluate(model, val_loader, device)\n",
    "print(f'Validation Accuracy: {val_accuracy:.2f}%')"
   ]
  },
  {
   "cell_type": "code",
   "execution_count": 35,
   "id": "99e2b31d-f44e-40a4-a39e-ee7a1fca29ac",
   "metadata": {},
   "outputs": [
    {
     "name": "stdout",
     "output_type": "stream",
     "text": [
      "Validation Accuracy: 71.05%\n"
     ]
    }
   ],
   "source": [
    "# 모델 평가\n",
    "val_accuracy = evaluate(model, val_loader)\n",
    "print(f'Validation Accuracy: {val_accuracy:.2f}%')"
   ]
  },
  {
   "cell_type": "code",
   "execution_count": 19,
   "id": "9d3320ee-1bab-458f-a03a-70a91207a101",
   "metadata": {},
   "outputs": [],
   "source": [
    "# 모델 저장\n",
    "torch.save(model, path+'cnn.pt')"
   ]
  },
  {
   "cell_type": "markdown",
   "id": "813aebde-5372-43b2-86b7-cc97632b5e09",
   "metadata": {},
   "source": [
    "# test"
   ]
  },
  {
   "cell_type": "code",
   "execution_count": null,
   "id": "9d18ea52-181b-4da5-bcec-a4e1a36ccd40",
   "metadata": {},
   "outputs": [],
   "source": []
  }
 ],
 "metadata": {
  "kernelspec": {
   "display_name": "Python 3 (ipykernel)",
   "language": "python",
   "name": "python3"
  },
  "language_info": {
   "codemirror_mode": {
    "name": "ipython",
    "version": 3
   },
   "file_extension": ".py",
   "mimetype": "text/x-python",
   "name": "python",
   "nbconvert_exporter": "python",
   "pygments_lexer": "ipython3",
   "version": "3.9.13"
  }
 },
 "nbformat": 4,
 "nbformat_minor": 5
}
