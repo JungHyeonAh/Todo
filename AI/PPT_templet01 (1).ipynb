{
 "cells": [
  {
   "cell_type": "markdown",
   "id": "6af11ae4-a06d-4a1d-b98c-742e3d738fab",
   "metadata": {},
   "source": [
    "## 슬라이드 템플릿 만들고 여러개 생성하기\n",
    "\n",
    "기존에 사용하던 템플릿을 제공받은 상황!  -->  이를 똑같이 만들어 줘야함\n",
    "<hr>\n",
    "### 어떻게 슬라이드 생성만들건가\n",
    "\n",
    "> 1. 입력받은 값이 총 몇개인지 알아보기  ex) num = 2 => 제목 + 슬라이드 설명 + 내용.<br>\n",
    "                                         (이때 제목과 설명은 기본으로 +2 해주어야 함. num = 2 + 2 = 4<br><hr>\n",
    "> 2. 기본으로 사용할 슬라이드 생성하고, num 개수만큼 슬라이드 창 만들어주기.\n",
    "> <pre>2.1. 제목</pre>\n",
    "> <pre>   주제목과 부제목 작성할 수 있게 만들기</pre>\n",
    "> <pre>2.2. 설명창</pre>\n",
    "> <pre>   2.2.1. 맨 위에 제목 들어가게 text창 만들어주기</pre>\n",
    "> <pre>2.3. 내용 창들</pre>\n",
    "> <pre>   2.3.1. 맨 위에 제목 들어가게 text창 만들어주기</pre>\n",
    "> <pre>   2.3.2. 해당 ppt를 만드는 날짜가 오른쪽 상단에 자동으로 업데이트 가능하도록</pre>\n",
    "> <pre>   2.3.3. 영상이 들어가는 바탕에 검은색 화면을 넣어야함 -> 영상 가로 높이 맞춰서 도형넣고, 색깔은 검은색으로 지정</pre>  0\n",
    "> <pre>   2.3.4. 영상 밑에 text창 만들어주기</pre>\n",
    "> <pre>   2.3.5. 왼쪽 하단에 ' 작성자 : ' 까지만 text창에 넣어주기</pre>"
   ]
  },
  {
   "cell_type": "code",
   "execution_count": 78,
   "id": "089d0ee3-4d7c-40b1-9aa9-ea0f83b165b1",
   "metadata": {},
   "outputs": [],
   "source": [
    "# 라이브러리\n",
    "import cv2\n",
    "import os\n",
    "\n",
    "from pptx import Presentation\n",
    "from pptx.util import Inches, Cm, Pt        # 크기 조정(사진, 클씨, 영상 등 모든 것)\n",
    "from pptx.enum.shapes import MSO_SHAPE  # 도형 만들기\n",
    "from pptx.enum.text import PP_ALIGN   # 글씨 정렬\n",
    "from pptx.dml.color import RGBColor   # 색깔"
   ]
  },
  {
   "cell_type": "markdown",
   "id": "e18fefc1-ad4a-4503-8ba6-dec1fb9b6624",
   "metadata": {},
   "source": [
    "#### ppt 복사 + 받은 개수만큼 슬라이드 복사하기"
   ]
  },
  {
   "cell_type": "code",
   "execution_count": 95,
   "id": "98c1968c-0b78-44a1-9b4a-9eb7fd3a90f5",
   "metadata": {},
   "outputs": [],
   "source": [
    "path = 'C:/Users/JungHyeona/Documents/Project/pptx'\n",
    "prs = Presentation(path + '/기본양식.pptx')\n",
    "\n",
    "num = 3 # 입력 받은 개수(슬라이드 창을 추가로 생성해야하는 개수)\n",
    "slide = prs.slides[0]\n",
    "\n",
    "\n",
    "for i in range(num + 1):\n",
    "    copy_slide = prs.slides.add_slide(slide.slide_layout)\n",
    "        \n",
    "prs.save(path + '/복사.pptx')"
   ]
  },
  {
   "cell_type": "markdown",
   "id": "64f07551-332b-44a2-96be-183ca653fd54",
   "metadata": {},
   "source": [
    "#### 도형 넣기"
   ]
  },
  {
   "cell_type": "code",
   "execution_count": 96,
   "id": "63ba4eae-1ae1-4be3-9ba4-6fe2127782b8",
   "metadata": {
    "tags": []
   },
   "outputs": [],
   "source": [
    "path = 'C:/Users/JungHyeona/Documents/Project/pptx'\n",
    "prs = Presentation(path + '/복사.pptx')\n",
    "\n",
    "\n",
    "for i in range(len(prs.slides)):\n",
    "    slide = prs.slides[i]\n",
    "    \n",
    "    # 모든 페이지에 공통으로 들어가는 조건\n",
    "    # update 시간\n",
    "    update_layout = slide.shapes.add_textbox(left=Cm(40.84), top=Cm(2.22), width=Cm(7.25), height=Cm(0.94))\n",
    "    update = update_layout.text_frame\n",
    "    update.text = '(Fin. update : 2023.04.05)'\n",
    "    # title.text_frame.parhagraphs[0].font.name =    # font 이름\n",
    "    update.paragraphs[0].font.size = Pt(16)  # font size\n",
    "    \n",
    "    # 하단에 페이지 수\n",
    "    page_layout = slide.shapes.add_textbox(left=Cm(22.06), top=Cm(26.34), width=Cm(2.8), height=Cm(0.94))\n",
    "    page = page_layout.text_frame\n",
    "    page.text = f'{i+1}'\n",
    "    page.paragraphs[0].font.size = Pt(16)\n",
    "    page.paragraphs[0].alignment = PP_ALIGN.CENTER  # 가운데 정렬\n",
    "    \n",
    "    if i == 0:\n",
    "        # ppt 제목\n",
    "        title_layout = slide.shapes.add_textbox(left=Cm(9.86), top=Cm(9.41), width=Cm(27.94), height=Cm(4.02))\n",
    "        title = title_layout.text_frame\n",
    "        title.text = 'PPT 제모모모모모목'\n",
    "        # title.text_frame.parhagraphs[0].font.name =    # font 이름\n",
    "        title.paragraphs[0].font.size = Pt(44)  # font size\n",
    "        title.paragraphs[0].alignment = PP_ALIGN.CENTER\n",
    "        \n",
    "        # ppt sub으로 드러가는 내용\n",
    "        subtitle_layout = slide.shapes.add_textbox(left=Cm(17.51), top=Cm(19.36), width=Cm(13.89), height=Cm(3.06))\n",
    "        subtitle = subtitle_layout.text_frame\n",
    "        subtitle.text = 'Update 한 날짜 들어감'\n",
    "        # title.text_frame.parhagraphs[0].font.name =    # font 이름\n",
    "        subtitle.paragraphs[0].font.size = Pt(32)  # font size\n",
    "        subtitle.paragraphs[0].alignment = PP_ALIGN.CENTER\n",
    "    \n",
    "    \n",
    "    # 두 번째 페이지부터 공통으로 들어가는 조건\n",
    "    elif i >= 1:\n",
    "        # 왼쪽 하단 작성자\n",
    "        writer_layout = slide.shapes.add_textbox(left=Cm(0.38), top=Cm(26.19), width=Cm(10.11), height=Cm(0.86))\n",
    "        writer = writer_layout.text_frame\n",
    "        writer.text = '작성자 : 개발임상 그룹 '\n",
    "        # title.text_frame.parhagraphs[0].font.name =    # font 이름\n",
    "        writer.paragraphs[0].font.size = Pt(18)  # font size\n",
    "        \n",
    "    \n",
    "        # 문장\n",
    "        title_layout = slide.shapes.add_textbox(left=Cm(0.86), top=Cm(0.76), width=Cm(48.06), height=Cm(2.14))\n",
    "        title = title_layout.text_frame\n",
    "        title.text = '임시 제목 문장'\n",
    "        # title.text_frame.parhagraphs[0].font.name =    # font 이름\n",
    "        title.paragraphs[0].font.size = Pt(44)  # font size\n",
    "        \n",
    "\n",
    "# ppt 저장\n",
    "prs.save(path + '/복사.pptx')"
   ]
  },
  {
   "cell_type": "code",
   "execution_count": null,
   "id": "a76192d0-d383-4584-ade1-37a073448a60",
   "metadata": {},
   "outputs": [],
   "source": []
  },
  {
   "cell_type": "markdown",
   "id": "5ad46700-8f61-49a1-906b-e96d6c6a5f61",
   "metadata": {},
   "source": [
    "# 이미지인 경우"
   ]
  },
  {
   "cell_type": "code",
   "execution_count": null,
   "id": "70cf2ae3-d5ac-4fdf-b76c-ede7239f49ee",
   "metadata": {},
   "outputs": [],
   "source": []
  },
  {
   "cell_type": "markdown",
   "id": "e8c7effa-7f62-4062-9f1e-7ed7735df026",
   "metadata": {},
   "source": [
    "# 영상인 경우"
   ]
  },
  {
   "cell_type": "code",
   "execution_count": 97,
   "id": "0b7a2fcd-9f7f-4ae2-8635-309142a5812b",
   "metadata": {},
   "outputs": [],
   "source": [
    "# 폴더 내의 영상 파일들을 순회\n",
    "def capture_video_thumbnail(video_path, thumbnail_path):\n",
    "    video = cv2.VideoCapture(video_path)\n",
    "    ret, frame = video.read()\n",
    "    if ret:\n",
    "        cv2.imwrite(thumbnail_path, frame)\n",
    "    video.release()"
   ]
  },
  {
   "cell_type": "code",
   "execution_count": 98,
   "id": "6dc530b6-52dd-4e2b-aa18-2972a207f220",
   "metadata": {},
   "outputs": [],
   "source": [
    "# PPT에 동영상 슬라이드를 추가하고, 동영상 썸네일을 삽입하는 함수\n",
    "def insert_video_slide(prs, video_path, thumbnail_path):\n",
    "    for i in range(len(prs.slides)):\n",
    "        slide = prs.slides[i]\n",
    "\n",
    "        if i >= 2:        \n",
    "            # 동영상에 썸네일 넣고, 동영상 삽입\n",
    "            # 왼쪽에 들어가는 영상\n",
    "            video_left = slide.shapes.add_movie(video_path, left=Cm(1), top=Cm(3.8), width=Cm(20), height=Cm(15)\n",
    "                                          , poster_frame_image=thumbnail_path)\n",
    "\n",
    "            # 오른쪽에 들어가는 영상 (어떻게 파일 입력 받을지 고민하기...\n",
    "            video_rigth = slide.shapes.add_movie(video_path, left=Cm(26.3), top=Cm(3.9), width=Cm(18.27), height=Cm(13.7)\n",
    "                                          , poster_frame_image=thumbnail_path)\n",
    "            \n",
    "            # 영상 자동 재생\n",
    "            slide.shapes._spTree.remove(slide.shapes._spTree[-1])\n",
    "            \n",
    "            # 영상 썸네일 이미지 삭제\n",
    "            # os.remove(thumbnail_path)\n",
    "    return slide"
   ]
  },
  {
   "cell_type": "code",
   "execution_count": 99,
   "id": "20c07fdd-cba6-4ccb-a1aa-f6ac8128396f",
   "metadata": {},
   "outputs": [],
   "source": [
    "# 영상 도형 넣기\n",
    "def insert_figure(prs):\n",
    "    for i in range(len(prs.slides)):\n",
    "        slide = prs.slides[i]\n",
    "        \n",
    "        if i >= 2:\n",
    "            # 직사각형\n",
    "            rec = slide.shapes.add_shape(MSO_SHAPE.RECTANGLE, left=Inches(0), top=Cm(3.76), width=Cm(48.92), height=Cm(15.7))\n",
    "            # 도형 색깔\n",
    "            fill = rec.fill # 도형 내부 색깔\n",
    "            fill.solid()\n",
    "            line = rec.line # 도형 테두리 색깔\n",
    "\n",
    "            fill.fore_color.rgb = RGBColor(0, 0, 0)\n",
    "            line.color.rgb = RGBColor(0, 0, 0)\n",
    "\n",
    "            # 영상 밑에 설명 창\n",
    "            text_layout = slide.shapes.add_textbox(left=Cm(0.86), top=Cm(19.99), width=Cm(46.78), height=Cm(2.57))\n",
    "            text = text_layout.text_frame\n",
    "            text.text = '설명을 적어주세요.'\n",
    "            # title.text_frame.parhagraphs[0].font.name =    # font 이름\n",
    "            text_layout.text_frame.paragraphs[0].font.size = Pt(18)  # font size"
   ]
  },
  {
   "cell_type": "code",
   "execution_count": 100,
   "id": "42dfa66f-116a-482a-98fe-14cab4aa332a",
   "metadata": {},
   "outputs": [],
   "source": [
    "# 폴더 내의 영상 파일들을 PPT에 슬라이드로 추가하는 함수\n",
    "def create_ppt(folder_path):\n",
    "    prs = Presentation(folder_path + '/복사.pptx')\n",
    "    \n",
    "    # 슬라이드에 검은색 도형 넣기\n",
    "    insert_figure(prs)\n",
    "\n",
    "    # 폴더 내의 영상 파일들을 순회\n",
    "    for root, dirs, files in os.walk(folder_path):\n",
    "        for file in files:\n",
    "            if file.lower().endswith(('.mp4', '.avi', '.mov')):\n",
    "                video_path = os.path.join(root, file)\n",
    "                thumbnail_path = os.path.join(root, f'{os.path.splitext(file)[0]}.png')\n",
    "                \n",
    "                # 영상 썸네일 이미지를 캡쳐하여 저장\n",
    "                capture_video_thumbnail(video_path, thumbnail_path)\n",
    "\n",
    "                # 영상 삽입\n",
    "                insert_video_slide(prs, video_path, thumbnail_path)\n",
    "                \n",
    "                # 영상 썸네일 이미지 삭제\n",
    "                os.remove(thumbnail_path)\n",
    "\n",
    "    # PPT 저장\n",
    "    prs.save(folder_path + '/복사.pptx')"
   ]
  },
  {
   "cell_type": "code",
   "execution_count": 101,
   "id": "0ce7c464-6568-4423-bc70-982a7a615312",
   "metadata": {},
   "outputs": [],
   "source": [
    "def main():\n",
    "    \n",
    "    folder_path = 'C:/Users/JungHyeona/Documents/Project/pptx'\n",
    "    \n",
    "    create_ppt(folder_path)"
   ]
  },
  {
   "cell_type": "code",
   "execution_count": 102,
   "id": "2ac31f77-9bf7-4bcb-9d6a-69b0a4be8a71",
   "metadata": {},
   "outputs": [],
   "source": [
    "if __name__ == '__main__':\n",
    "    main()"
   ]
  },
  {
   "cell_type": "code",
   "execution_count": null,
   "id": "c1a0e48e-1224-4d79-9e22-1f5801011a58",
   "metadata": {},
   "outputs": [],
   "source": []
  }
 ],
 "metadata": {
  "kernelspec": {
   "display_name": "Python 3 (ipykernel)",
   "language": "python",
   "name": "python3"
  },
  "language_info": {
   "codemirror_mode": {
    "name": "ipython",
    "version": 3
   },
   "file_extension": ".py",
   "mimetype": "text/x-python",
   "name": "python",
   "nbconvert_exporter": "python",
   "pygments_lexer": "ipython3",
   "version": "3.9.13"
  }
 },
 "nbformat": 4,
 "nbformat_minor": 5
}
