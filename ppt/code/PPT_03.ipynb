{
 "cells": [
  {
   "cell_type": "markdown",
   "id": "0d1c22b4-e9ad-438a-9be3-8906ee855e9e",
   "metadata": {},
   "source": [
    "## PPT 자동화 만들기!\n",
    "\n",
    "\n",
    "1. 존재하는 초음파 Thumbnail 영상, nerve 정보 입력을 받음\n",
    "2. 초음파 Thumbnail 영상에 nerve box를 그림\n",
    "3. 하나의 PPT로 만듬 \n",
    "\n",
    "- 해당 부분은 개발임상분들과 요구 사항 분석후 진행해야 될 부분으로 보입니다\n",
    "- 해부학적 요소에 대한 정보가 없으면 첨부된 PPT와 같이 만들기 어려울 수 있습니다.\n",
    "- AI를 이용하여 자동으로 찾아 박스를 입히는 방법도 있겠지만 범위가 광범위 하여 개발 임상의 요구 사항을 미리 정리 해야 할 것으로 보입니다.\n",
    "<br><br>\n",
    "- 한 폴더에는 한 환자의 정보가 담깁니다.\n",
    "- 때에 따라선 2~3폴더에 담길 수도 있습니다.\n",
    "- 환자 정보를 지운 초음파 영상을 이용하여 PPT를 만들어야 하기 때문에 미리 마킹되어 있지 않으면 여러폴더에 있는 환자를 하나로 보기 힘들수 있습니다.\n",
    "- 따라서 폴더별로 영상을 찾아 PPT를 만드는 과정이 있으면 될 것으로 보입니다.\n",
    "- 임의의 영상을 다운로드 받아 폴더별로 넣어두고 이를 각가의 PPT로 만드는 Test를 먼저 해보시면 될 것 같습니다."
   ]
  },
  {
   "cell_type": "markdown",
   "id": "c6cda6b4-3297-4288-99b9-0ba7d7305dc9",
   "metadata": {},
   "source": [
    "## 포함되야 할 내용\n",
    "\n",
    "1. 사용하는 슬라이드 창은 주로 2개 (이미지 한개만 들어가기 / 2장이 좌, 우로 들어가기)\n",
    "\n",
    "2. 이미지가 들어갈 때 한 폴더당 한개의 ppt가 나올 수 있도록\n",
    "\n",
    "3. 영상도 들어갈 수 있게 만들기\n",
    "\n",
    "4. 이미지에 이미 Nerve라는 label이 박스 형태로 지정되어있는 상태(도형으로 넣고, 배경이랑 테두리 없는걸로 바꾼 상태)\n",
    "       -> 이때 테두리에만 색상을 입혀주고, Nerve라고만 되어있는 label이름들을 Median, Ulnar, Radial, others로 변경해주실 바람..? 아마도\n",
    "       \n",
    "5. 슬라이드 왼쪽 상단에 해당 이미지의 이름이 쓰여져 있음.\n",
    "\n",
    "6. pdf로 변환\n",
    "\n",
    "참고 url\n",
    "https://wooiljeong.github.io/python/python-pptx/\n",
    "\n",
    "https://scribblinganything.tistory.com/492\n",
    "\n",
    "내가 찾은 자료\n",
    "https://blog.aspose.com/ko/slides/add-video-frame-to-ppt-in-python/"
   ]
  },
  {
   "cell_type": "markdown",
   "id": "a60032a5-7380-4aa1-bba4-561f85f10ce7",
   "metadata": {},
   "source": [
    "## 의문점\n",
    "\n",
    "1. 슬라이드 안에 제목 슬라이드 -> 이미미미미지들 -> 제목 슬라이드 -> 이미미미미미지들 로 되어있음. 그렇다면 이 제목은 폴더 이름인지, 아님 뭐 기본 형식이 있는건지\n",
    "   혹은  직접 자기가 쓰기를 원하는지를 모르겠음.   (이름 예시 : 미래_18_AxBP_copy  여기서 숫자만 1씩 커졌음.)\n",
    "   사용자가 원하는 바가 무엇인지 물어보기"
   ]
  },
  {
   "cell_type": "markdown",
   "id": "a0c08a5e-7a2e-4fd8-967a-2f286027930c",
   "metadata": {},
   "source": [
    "# 연습"
   ]
  },
  {
   "cell_type": "code",
   "execution_count": 1,
   "id": "4813b1ca-8d0e-4479-b200-ae9791bec921",
   "metadata": {},
   "outputs": [],
   "source": [
    "# 라이브러리\n",
    "from pptx import Presentation\n",
    "from pptx.util import Inches, Cm        # 크기 조정(사진, 클씨, 영상 등 모든 것)\n",
    "from pptx.enum.shapes import MSO_SHAPE  # 도형 만들기"
   ]
  },
  {
   "cell_type": "code",
   "execution_count": 16,
   "id": "11520f19-043d-43bf-80e5-c486e247ce7c",
   "metadata": {
    "tags": []
   },
   "outputs": [
    {
     "data": {
      "text/plain": [
       "'\\n# Add an image to the slide\\nimg_path = \\'C:/pptx/사과.jpg\\'\\npic = slide.shapes.add_picture(img_path, left=Cm(1), top=Cm(10), height = Cm(6))\\n\\n\\n# pentagon 도형 추가 / 텍스트 입력\\nslide_layout = prs.slide_layouts[6]\\n# 파일에 슬라이드 삽입 (1번 슬라이드)\\nslide = prs.slides.add_slide(slide_layout)\\n\\nleft = Cm(1)\\ntop = Cm(8)\\nwidth = Cm(5)\\nheight = Cm(2)\\n\\nshapes = slide.shapes\\nshape = shapes.add_shape(MSO_SHAPE.PENTAGON, left, top, width, height)\\nshape.text = \"Step 1\"\\n\\nleft = left + width - Cm(0.5)\\nwidth = Cm(5)\\nfor n in range(2, 6):\\n    shape = shapes.add_shape(MSO_SHAPE.CHEVRON, left, top, width, height)\\n    shape.text = f\"Step {n}\"\\n    left = left + width - Cm(0.5)\\n\\n\\n# 세번째 슬라이드\\nslide_layout = prs.slide_layouts[2]\\n# 파일에 슬라이드 삽입 (1번 슬라이드)\\nslide = prs.slides.add_slide(slide_layout)\\n# Add a video to the slide\\nvid_path = \\'C:/pptx/reeds.mp4\\'\\nvid = slide.shapes.add_movie(vid_path, left=Inches(3), top=Inches(3), width=Inches(4), height=Inches(3))\\n\\n# Save the presentation\\nprs.save(\\'C:/pptx/e.pptx\\')'"
      ]
     },
     "execution_count": 16,
     "metadata": {},
     "output_type": "execute_result"
    }
   ],
   "source": [
    "# pptx : 슬라이드가 없는 상태\n",
    "prs = Presentation()\n",
    "'''\n",
    "# 첫번째 슬라이드 생성 (제목 슬라이드 : 메인과 서브 타이틀로 구성)\n",
    "slide_layout = prs.slide_layouts[0]\n",
    "# 파일에 슬라이드 삽입 (1번 슬라이드)\n",
    "slide = prs.slides.add_slide(slide_layout)\n",
    "\n",
    "# main에 제목 넣기\n",
    "title = slide.placeholders[0]\n",
    "title.text = 'Main Title Area'\n",
    "# sub에 제목 넣기\n",
    "subtitle = slide.placeholders[1]\n",
    "subtitle.text = 'Sub Title Area'\n",
    "'''\n",
    "\n",
    "# 두번째 슬라이드\n",
    "slide_layout = prs.slide_layouts[6]\n",
    "# 파일에 슬라이드 삽입 (1번 슬라이드)\n",
    "slide = prs.slides.add_slide(slide_layout)\n",
    "\n",
    "left = Cm(1)\n",
    "top = Cm(8)\n",
    "width = Cm(5)\n",
    "height = Cm(2)\n",
    "\n",
    "movie = slide.shapes.add_movie(main, left, top, width, height, mime_type='video/mp4')\n",
    "\n",
    "prs.save(\"C:/Users/JungHyeona/Documents/Project/pptx/movie.pptx\")\n",
    "\n",
    "\n",
    "\n",
    "'''\n",
    "# Add an image to the slide\n",
    "img_path = 'C:/pptx/사과.jpg'\n",
    "pic = slide.shapes.add_picture(img_path, left=Cm(1), top=Cm(10), height = Cm(6))\n",
    "\n",
    "\n",
    "# pentagon 도형 추가 / 텍스트 입력\n",
    "slide_layout = prs.slide_layouts[6]\n",
    "# 파일에 슬라이드 삽입 (1번 슬라이드)\n",
    "slide = prs.slides.add_slide(slide_layout)\n",
    "\n",
    "left = Cm(1)\n",
    "top = Cm(8)\n",
    "width = Cm(5)\n",
    "height = Cm(2)\n",
    "\n",
    "shapes = slide.shapes\n",
    "shape = shapes.add_shape(MSO_SHAPE.PENTAGON, left, top, width, height)\n",
    "shape.text = \"Step 1\"\n",
    "\n",
    "left = left + width - Cm(0.5)\n",
    "width = Cm(5)\n",
    "for n in range(2, 6):\n",
    "    shape = shapes.add_shape(MSO_SHAPE.CHEVRON, left, top, width, height)\n",
    "    shape.text = f\"Step {n}\"\n",
    "    left = left + width - Cm(0.5)\n",
    "\n",
    "\n",
    "# 세번째 슬라이드\n",
    "slide_layout = prs.slide_layouts[2]\n",
    "# 파일에 슬라이드 삽입 (1번 슬라이드)\n",
    "slide = prs.slides.add_slide(slide_layout)\n",
    "# Add a video to the slide\n",
    "vid_path = 'C:/pptx/reeds.mp4'\n",
    "vid = slide.shapes.add_movie(vid_path, left=Inches(3), top=Inches(3), width=Inches(4), height=Inches(3))\n",
    "\n",
    "# Save the presentation\n",
    "prs.save('C:/pptx/e.pptx')'''"
   ]
  },
  {
   "cell_type": "code",
   "execution_count": 24,
   "id": "4a3f77ea-3099-453e-94d8-6fb892a33413",
   "metadata": {},
   "outputs": [],
   "source": [
    "main = 'C:/Users/JungHyeona/Documents/Project/pptx/image/b/reeds.mp4'\n",
    "tmp = 'C:/Users/JungHyeona/Documents/Project/pptx/image/b'\n",
    "# 두번째 슬라이드\n",
    "slide_layout = prs.slide_layouts[6]\n",
    "# 파일에 슬라이드 삽입 (1번 슬라이드)\n",
    "slide = prs.slides.add_slide(slide_layout)\n",
    "\n",
    "left = Cm(1)\n",
    "top = Cm(8)\n",
    "width = Cm(5)\n",
    "height = Cm(2)\n",
    "\n",
    "movie = slide.shapes.add_movie(main, left, top, width, height, mime_type='video/mp4', poster_frame_image= tmp + '/banana_01.jpg')\n",
    "prs.save(\"C:/Users/JungHyeona/Documents/Project/pptx/movie.pptx\")\n",
    "\n",
    "## movie를 사용해서 임의의 이미지를 썸네일로 넣어봤는데 잘 됨.\n",
    "## 동영상 실행을 누르면 썸네일 사라지고 잘 돌아감"
   ]
  },
  {
   "cell_type": "markdown",
   "id": "e2448904-edf3-4cc1-b0f6-b5e73ee8c8ad",
   "metadata": {},
   "source": [
    "# 실전"
   ]
  },
  {
   "cell_type": "code",
   "execution_count": 6,
   "id": "0d4f0e2b-0494-426c-9526-3081e7d58906",
   "metadata": {},
   "outputs": [],
   "source": [
    "# 라이브러리\n",
    "import os     # 파일이나 디렉토리 조작 가능, path를 얻거나 새로운 파일 direc 작성 가능.\n",
    "import glob   # 파일들을 검색할 때 사용\n",
    "import sys    # 파이썬 인터프리터 제어 방법 제공.\n",
    "import json\n",
    "import cv2\n",
    "\n",
    "from pptx import Presentation   # ppt 파일 만들고 업데이트\n",
    "from pptx.enum.shapes import MSO_SHAPE    # 도형 삽입\n",
    "from pptx.enum.dml import MSO_COLOR_TYPE  # 색상 \n",
    "from pptx.dml.color import RGBColor # 도형색을 수로 지정\n",
    "from pptx.util import Inches, Pt, Cm    # Inches : 도형 크기, 여백 길이 지정 / Pt : 폰트 사이즈\n",
    "from shutil import copyfile    # shutil : 폴더, 파일 복사\n",
    "\n",
    "from PIL import Image\n",
    "#from pil_video import make_video\n",
    "import av"
   ]
  },
  {
   "cell_type": "code",
   "execution_count": 7,
   "id": "13e37a42-7656-40bf-839b-7a70fff56fa8",
   "metadata": {},
   "outputs": [],
   "source": [
    "main = 'C:/Users/JungHyeona/Documents/pptx/image'"
   ]
  },
  {
   "cell_type": "markdown",
   "id": "18ce0b29-d553-4841-b7d4-3a97770917f5",
   "metadata": {},
   "source": [
    "1. 폴더 불러오기 (MDX1\\image\\ 폴더 아래 백업한 날짜 + E000XXXX 의 조합)\n",
    "   -> 한 환자당 하나의 폴더 혹은 그 이상이 될 수 있음.\n",
    "   => 폴더별로 이미지 혹은 영상 찾아서 ppt로 만들기\n",
    "   \n",
    "2. 폴더 내에 있는 이미지, 영상 개수만큼 리스트 값으로 지정해서 while문 돌리기"
   ]
  },
  {
   "cell_type": "code",
   "execution_count": 30,
   "id": "122c530b-37bc-4c45-a61f-9a25edd0c31c",
   "metadata": {},
   "outputs": [],
   "source": [
    "main = 'C:/Users/JungHyeona/Documents/pptx/image/b/'\n",
    "\n",
    "com = av.open(main+'reeds.mp4')"
   ]
  },
  {
   "cell_type": "code",
   "execution_count": 36,
   "id": "b416a209-e0cf-4926-b94e-c80c1a064717",
   "metadata": {},
   "outputs": [
    {
     "data": {
      "text/plain": [
       "'C:/Users/JungHyeona/Documents/pptx/image\\\\o'"
      ]
     },
     "execution_count": 36,
     "metadata": {},
     "output_type": "execute_result"
    }
   ],
   "source": [
    "path"
   ]
  },
  {
   "cell_type": "code",
   "execution_count": 10,
   "id": "6a19c08f-ee55-498e-8e14-78dfac5973b7",
   "metadata": {
    "tags": []
   },
   "outputs": [],
   "source": [
    "main = 'C:/Users/JungHyeona/Documents/Project/pptx/image'\n",
    "\n",
    "for folder in os.listdir(main):\n",
    "    path = os.path.join(main, folder)  # path = 'C:/Users/JungHyeona/Documents/pptx/image/o'\n",
    "    \n",
    "    if not os.path.isdir(path):\n",
    "        continue\n",
    "    \n",
    "    prs = Presentation()\n",
    "    # 이미지 레이아웃 때 주로 사용하는 창 번호지정\n",
    "    layout_00 = prs.slide_layouts[0]\n",
    "    layout_01 = prs.slide_layouts[1]\n",
    "    layout_05 = prs.slide_layouts[5]\n",
    "    layout_06 = prs.slide_layouts[6]\n",
    "    \n",
    "    # prs = Presentation()\n",
    "    # 제목 넣는 부분\n",
    "    slide = prs.slides.add_slide(layout_00)\n",
    "\n",
    "    # 폴더 개수 만큼 ppt 생성이 됨.\n",
    "    # 또한 입력한 제목이 ppt내에 잘 생성이 됨.\n",
    "    #t_in = input(\"제목을 입력하세요 : \")\n",
    "    title = slide.placeholders[0]\n",
    "    #title = slide.shapes.title\n",
    "    title.text = folder\n",
    "\n",
    "    '''\n",
    "    s_in = input(\"부제목을 입력하세요 : \")\n",
    "    sub_title = slide.placeholders[1]\n",
    "    sub_title.text = s_in\n",
    "    '''\n",
    "#------------------------------------------------------------------------> 완\n",
    "    # 이미지 슬라이드에 넣기\n",
    "    #if(os.listdir(path) == forder)\n",
    "    for file in os.listdir(path):   # 폴더 내에 있는 파일만큼 돌아가도록\n",
    "        \n",
    "        # 사진 혹은 영상 제목\n",
    "        con_slide = prs.slides.add_slide(layout_06)\n",
    "        content = con_slide.shapes.add_textbox(left=Inches(0), top=Inches(0), width=Inches(8), height=Inches(1))\n",
    "        content.text_frame.text = file\n",
    "        \n",
    "        if file.endswith('.jpg'):   #  jpg로 끝나는 문서일 때\n",
    "            # 이미지\n",
    "            img_path = os.path.join(path, file)   # img_path = 'C:\\\\pptx\\\\image\\\\o\\\\~.jpg'\n",
    "            #img = Image.open(img_path)\n",
    "\n",
    "            # Add an image to the slide\n",
    "            # left : x좌표 , top : y좌표 , width : 이미지 가로 길이 , height : 이미지 세로 길이\n",
    "            pic = con_slide.shapes.add_picture(img_path, left=Inches(0), top=Inches(0.5), width=Inches(10), height=Inches(6))\n",
    "            \n",
    "        elif file.endswith('.mp4'):  # 영상\n",
    "            vid_path = os.path.join(path, file)  # 'C:/pptx/reeds.mp4'\n",
    "            #vid = vid_path.videos.add_video            pic = slide.shapes.add_video(vid_path, left=Inches(3), top=Inches(3), width=Inches(4), height=Inches(3))\n",
    "\n",
    "    prs.save(\"C:/Users/JungHyeona/Documents/Project/pptx/%s.pptx\" % folder)\n",
    "        \n",
    "        # 돌아는 가는데 a, b, o 따로 이미지가 저장 되는게 아니라 a, a + b, a + b + c 형식으로 이미지 저장됨. -> prs.Presentation을 for문 안에 선언해야 했음.\n",
    "        # 또 각 슬라이드 당 하나씩 이미지가 들어가는 것이 아닌 한 슬라이드창에 내가 지정해 둔 위치에 겹겹이 쌓여서 저장됨.\n",
    "        #  -> img_slide를 먼저 선언하고 이미지를 열어야 했음. 이미지 먼저 열고 슬라이드 창을 불러서 title부분에 이미지가 겹겹이 쌓였던 것임"
   ]
  },
  {
   "cell_type": "code",
   "execution_count": null,
   "id": "2904755f-65d2-48a6-a873-e6ef1eae38b3",
   "metadata": {
    "tags": []
   },
   "outputs": [],
   "source": [
    "main = 'C:\\pptx\\image\\\\'\n",
    "\n",
    "for forder in os.listdir(main):\n",
    "    path = main + forder\n",
    "    print(path)\n",
    "    for file in os.listdir(path):\n",
    "        #print(file)\n",
    "        if file.endswith('.jpg'):\n",
    "            img = os.path.join(forder, file)\n",
    "            #print(forder + '\\t' + img)"
   ]
  },
  {
   "cell_type": "code",
   "execution_count": null,
   "id": "18611bbe-92e8-47f5-be52-0d7ef8324162",
   "metadata": {},
   "outputs": [],
   "source": []
  }
 ],
 "metadata": {
  "kernelspec": {
   "display_name": "Python 3 (ipykernel)",
   "language": "python",
   "name": "python3"
  },
  "language_info": {
   "codemirror_mode": {
    "name": "ipython",
    "version": 3
   },
   "file_extension": ".py",
   "mimetype": "text/x-python",
   "name": "python",
   "nbconvert_exporter": "python",
   "pygments_lexer": "ipython3",
   "version": "3.9.13"
  }
 },
 "nbformat": 4,
 "nbformat_minor": 5
}
