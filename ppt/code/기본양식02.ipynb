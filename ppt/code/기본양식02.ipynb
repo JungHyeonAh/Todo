{
 "cells": [
  {
   "cell_type": "markdown",
   "id": "384521f9-b7c6-4823-a7f7-de4e6ec859e6",
   "metadata": {},
   "source": [
    "## 기본양식에서 내가 원하는 슬라이드 가져와서 붙여넣기\n",
    "-> 원래 이렇게 하려고 했으나, 기본 양식에서 슬라이드 창만 복사해서 새로운 슬라이드에 붙는 것이 안됨."
   ]
  },
  {
   "cell_type": "code",
   "execution_count": null,
   "id": "9f07a59d-231b-42e2-88a3-ef48f3795dfc",
   "metadata": {},
   "outputs": [],
   "source": [
    "def duplicate_slide(prs):\n",
    "    source_slide = prs.slides[0]\n",
    "    slide_layout = prs.slide_layouts[-1]\n",
    "    copied_slide = prs.slides.add_slide(slide_layout)\n",
    "    \n",
    "    # 원본 슬라이드에서 shape 복제\n",
    "    for shape in source_slide.shapes:\n",
    "        el = shape.element\n",
    "        newel = copy.deepcopy(el)\n",
    "        copied_slide.shapes._spTree.insert_element_before(newel, 'p:extLst')\n",
    "        \n",
    "    return copied_slide\n",
    "\n",
    "duplicate_slide(prs)\n",
    "prs.save(folder_path + '/tmp.pptx')      # -> prs로 저장할 경우 원본이 복사된 후 내가 원하는 슬라이드가 복사가 됨. 따라서 \n",
    "new_prs.save(folder_path + '/tmp.pptx')  # -> new_prs로 저장할 경우 새로 presentation을 만들기 때문에 오류가 발생해서 복구하라는 창이 나옴\n",
    "\n",
    "'''\n",
    "for shape in source_slide.shapes은 내가 복사하고자 하는 슬라이드 창의 도형을 가지고 옴.\n",
    "결과적으로 위의 코드는 내가 원했던, 기본양식.ppt에서 원하는 슬라이드 창을 복사해서 새로운 ppt에 붙이는 방식이 안됨.\n",
    "따라서 prs.save로 ppt이름만 변경한 후에 해당 ppt 안에서 슬라이드 창 복사를 진행해야함.\n",
    "슬라이드를 다 만들었을 경우, slides[2], [3]번 창은 삭제를 해주기\n",
    "(이미지, 영상 넣는 기본 양식에 맞게 꾸며둔 것이기 때문에, 슬라이드를 만들 때는 복사를 해야해서 필요하다.\n",
    "하지만 슬라이드를 다 만들고 난 뒤에는 필요가 없기 때문에 슬라이드를 삭제해주어야 한다.)\n",
    "'''"
   ]
  },
  {
   "cell_type": "code",
   "execution_count": 1,
   "id": "29a3d426-776d-46ed-86ea-fb071a47ad83",
   "metadata": {},
   "outputs": [],
   "source": [
    "import cv2\n",
    "import os\n",
    "from pptx import Presentation\n",
    "from pptx.util import Inches, Cm, Pt        # 크기 조정(사진, 클씨, 영상 등 모든 것)\n",
    "from pptx.enum.text import PP_ALIGN   # 글씨 정렬\n",
    "from pptx.dml.color import RGBColor   # 색깔\n",
    "\n",
    "import copy\n",
    "from copy import deepcopy\n",
    "import nbformat   # 다른 ipybn파일 불러오기"
   ]
  },
  {
   "cell_type": "code",
   "execution_count": 2,
   "id": "a08dac7c",
   "metadata": {},
   "outputs": [],
   "source": [
    "folder_path = 'C:/Users/JungHyeona/Documents/Project/pptx'\n",
    "basic_prs = Presentation(folder_path + '/basic.pptx')"
   ]
  },
  {
   "cell_type": "code",
   "execution_count": 3,
   "id": "82cd6c97",
   "metadata": {},
   "outputs": [],
   "source": [
    "basic_prs.save(folder_path + '/tmp.pptx')"
   ]
  },
  {
   "cell_type": "code",
   "execution_count": 4,
   "id": "45b3edf0",
   "metadata": {},
   "outputs": [],
   "source": [
    "image_file = [[folder_path + '/image/b/banana_01.jpg', folder_path+'/image/b/banana_02.jpg']]\n",
    "video_path = [folder_path + '/image/b/reeds.mp4', folder_path + '/image/b/ocean.mp4']"
   ]
  },
  {
   "cell_type": "code",
   "execution_count": 5,
   "id": "b7b3871b",
   "metadata": {},
   "outputs": [],
   "source": [
    "# 기본양식을 복사하고 이름만 바꿔서 저장.\n",
    "# csv파일로 받을 것이기 때문에, csv파일 열고, 해당 이름을 tmp 대신에 넣어주기\n",
    "prs = Presentation(folder_path + '/tmp.pptx')"
   ]
  },
  {
   "attachments": {},
   "cell_type": "markdown",
   "id": "09f22820",
   "metadata": {},
   "source": [
    "### 슬라이드 복사\n",
    "https://copyprogramming.com/howto/python-pptx-adding-entire-slide-from-another-presentation"
   ]
  },
  {
   "attachments": {},
   "cell_type": "markdown",
   "id": "ca34c930",
   "metadata": {},
   "source": [
    "### 이미지"
   ]
  },
  {
   "cell_type": "code",
   "execution_count": 6,
   "id": "50526c07",
   "metadata": {},
   "outputs": [],
   "source": [
    "def slide_num(prs, index):\n",
    "    source_slide = prs.slides[index]\n",
    "    slide_layout = source_slide.slide_layout\n",
    "    copied_slide = prs.slides.add_slide(slide_layout)\n",
    "\n",
    "    # 원본 슬라이드에서 shape 복제\n",
    "    for shape in source_slide.shapes:\n",
    "        el = shape.element\n",
    "        newel = copy.deepcopy(el)\n",
    "        copied_slide.shapes._spTree.insert_element_before(newel, 'p:extLst')\n",
    "\n",
    "    return source_slide"
   ]
  },
  {
   "cell_type": "code",
   "execution_count": 7,
   "id": "869992ac",
   "metadata": {},
   "outputs": [],
   "source": [
    "# 이미지 넣는 슬라이드 복사\n",
    "def copy_slide02(prs):\n",
    "\n",
    "    # 복사해서 가져오고 싶은 번호 지정\n",
    "    slide_num(prs, 2)\n",
    "\n",
    "    #return copied_slide"
   ]
  },
  {
   "cell_type": "code",
   "execution_count": 8,
   "id": "d98050bb",
   "metadata": {},
   "outputs": [],
   "source": [
    "def insert_image(prs, image_file):\n",
    "\n",
    "    \n",
    "    # 이미지 넣을 슬라이드(맨 마지막 슬라이드에 들어가도록)\n",
    "    slide = prs.slides[-1]\n",
    "    \n",
    "    for sublist in image_file:\n",
    "\n",
    "        # 이미지 왼쪽\n",
    "        # left : x좌표 , top : y좌표 , width : 이미지 가로 길이 , height : 이미지 세로 길이\n",
    "        slide.shapes.add_picture(sublist[0], left=Cm(2), top=Cm(8), width=Cm(20), height=Cm(15))\n",
    "\n",
    "        # 이미지 오른쪽\n",
    "        slide.shapes.add_picture(sublist[1], left=Cm(23), top=Cm(8), width=Cm(20), height=Cm(15))"
   ]
  },
  {
   "attachments": {},
   "cell_type": "markdown",
   "id": "ca77d61e",
   "metadata": {},
   "source": [
    "### 영상"
   ]
  },
  {
   "cell_type": "code",
   "execution_count": 17,
   "id": "1c114eea",
   "metadata": {},
   "outputs": [],
   "source": [
    "# 영상 넣는 슬라이드 복사\n",
    "def copy_slide03(prs):\n",
    "    \n",
    "    # 복사해서 가져오고 싶은 번호 지정\n",
    "    slide_num(prs, 3)\n",
    "    "
   ]
  },
  {
   "cell_type": "code",
   "execution_count": 20,
   "id": "d49528d5",
   "metadata": {},
   "outputs": [],
   "source": [
    "# 폴더 내의 영상 파일들을 순회\n",
    "def capture_video_thumbnail(video_path, thumbnail_path):\n",
    "    \n",
    "    for image_file in range(len(video_path)-1):\n",
    "        video = cv2.VideoCapture(video_path[image_file])\n",
    "        ret, frame = video.read()\n",
    "\n",
    "        if ret:\n",
    "            cv2.imwrite(thumbnail_path, frame)\n",
    "        video.release()   # 비디오 캡처 객체 해제\n",
    "        \n",
    "    return thumbnail_path"
   ]
  },
  {
   "cell_type": "code",
   "execution_count": 25,
   "id": "93690743",
   "metadata": {},
   "outputs": [
    {
     "data": {
      "text/plain": [
       "'C:/Users/JungHyeona/Documents/Project/pptx/image/b/ocean.mp4'"
      ]
     },
     "execution_count": 25,
     "metadata": {},
     "output_type": "execute_result"
    }
   ],
   "source": [
    "video_path[1]"
   ]
  },
  {
   "cell_type": "code",
   "execution_count": 21,
   "id": "2eea7ef5",
   "metadata": {},
   "outputs": [],
   "source": [
    "# PPT에 동영상 슬라이드를 추가하고, 동영상 썸네일을 삽입하는 함수\n",
    "def insert_video_slide(prs, video_path, thumbnail_path):\n",
    "    # 이미지 넣을 슬라이드(맨 마지막 슬라이드에 들어가도록)\n",
    "    slide = prs.slides[-1]\n",
    "    \n",
    "    # 동영상에 썸네일 넣고, 동영상 삽입\n",
    "    # 왼쪽에 들어가는 영상\n",
    "    slide.shapes.add_movie(video_path[0], left=Cm(1), top=Cm(3.8), width=Cm(20), height=Cm(15)\n",
    "                                    , poster_frame_image=thumbnail_path)\n",
    "\n",
    "    # 오른쪽에 들어가는 영상\n",
    "    slide.shapes.add_movie(video_path[1], left=Cm(26.3), top=Cm(3.9), width=Cm(18.27), height=Cm(13.7)\n",
    "                                    , poster_frame_image=thumbnail_path)\n",
    "    \n",
    "    # 영상 자동 재생\n",
    "    slide.shapes._spTree.remove(slide.shapes._spTree[-1])\n",
    "    \n",
    "    # 영상 썸네일 이미지 삭제\n",
    "    os.remove(thumbnail_path)\n",
    "    return slide"
   ]
  },
  {
   "cell_type": "code",
   "execution_count": 22,
   "id": "2456cdd4",
   "metadata": {},
   "outputs": [],
   "source": [
    "# 폴더 내의 영상 파일들을 PPT에 슬라이드로 추가하는 함수\n",
    "def create_video(prs, video_path):\n",
    "\n",
    "    for image_file in video_path:\n",
    "        video_name = image_file.split(\"/\")[-1]\n",
    "        thumbnail_path = os.path.join(folder_path, f'{os.path.splitext(image_file)[0]}.png')\n",
    "        \n",
    "        # 영상 썸네일 이미지를 캡쳐하여 저장\n",
    "        capture_video_thumbnail(video_path, thumbnail_path)\n",
    "\n",
    "        # 영상 삽입\n",
    "        insert_video_slide(prs, video_path, thumbnail_path)"
   ]
  },
  {
   "attachments": {},
   "cell_type": "markdown",
   "id": "3b3551a6",
   "metadata": {},
   "source": [
    "### 값이 이미지인지, 영상인지에 따라서 해당하는 함수로 넘어가서 돌아갈 수 있게 하기"
   ]
  },
  {
   "cell_type": "code",
   "execution_count": null,
   "id": "dc090e22",
   "metadata": {},
   "outputs": [],
   "source": [
    "for img_list in image_file:\n",
    "    print(img_list[-4])\n"
   ]
  },
  {
   "attachments": {},
   "cell_type": "markdown",
   "id": "c868b628",
   "metadata": {},
   "source": [
    "### 사용자 입력"
   ]
  },
  {
   "cell_type": "code",
   "execution_count": 9,
   "id": "46d74c1f",
   "metadata": {},
   "outputs": [],
   "source": [
    "def str_in(prs, name, date):\n",
    "\n",
    "    #for i in range(len(prs.slides)):\n",
    "    slide = prs.slides[-1]\n",
    "    \n",
    "    # 모든 페이지에 공통으로 들어가는 조건\n",
    "    # update 시간\n",
    "    update_layout = slide.shapes.add_textbox(left=Cm(40.84), top=Cm(2.22), width=Cm(7.25), height=Cm(0.94))\n",
    "    update = update_layout.text_frame\n",
    "    update.text = '(Fin. update : ' + date + ')'\n",
    "    # title.text_frame.parhagraphs[0].font.name =    # font 이름\n",
    "    update.paragraphs[0].font.size = Pt(16)  # font size\n",
    "    \n",
    "    # 하단에 페이지 수\n",
    "    page_layout = slide.shapes.add_textbox(left=Cm(22.06), top=Cm(26.34), width=Cm(2.8), height=Cm(0.94))\n",
    "    page = page_layout.text_frame\n",
    "    page.text = f'{len(prs.slides)}'\n",
    "    page.paragraphs[0].font.size = Pt(16)\n",
    "    page.paragraphs[0].alignment = PP_ALIGN.CENTER  # 가운데 정렬\n",
    "    \n",
    "    \n",
    "    # 두 번째 페이지부터 공통으로 들어가는 조건\n",
    "    #if i >= 1:\n",
    "    # 왼쪽 하단 작성자\n",
    "    writer_layout = slide.shapes.add_textbox(left=Cm(0.38), top=Cm(26.19), width=Cm(10.11), height=Cm(0.86))\n",
    "    writer = writer_layout.text_frame\n",
    "    writer.text = '작성자 : 개발임상 그룹 ' + name\n",
    "    # title.text_frame.parhagraphs[0].font.name =    # font 이름\n",
    "    writer.paragraphs[0].font.size = Pt(18)  # font size\n",
    "        \n",
    "    #return writer, update, page"
   ]
  },
  {
   "cell_type": "code",
   "execution_count": 10,
   "id": "df764a0c",
   "metadata": {},
   "outputs": [],
   "source": [
    "def main():\n",
    "    name = input('이름을 입력하세요 : ')\n",
    "    date = input('날짜를 입력하세요 : ')\n",
    "\n",
    "    # 전역 변수\n",
    "    global prs\n",
    "\n",
    "    # 슬라이드에 넣을 파일들을 임시로 지정해둠.\n",
    "    #image_file = [[folder_path+'\\\\image\\\\b\\\\banana_01.png', folder_path+'\\\\image\\\\b\\\\banana_02.png']]\n",
    "    #video_file = [[folder_path+'/image/b/banana01.png', folder_path+'/image/b/banana02.png']]\n",
    "\n",
    "    # 슬라이드가 하나만 복사가 안되고 있음. len(sublist) = 2이기 때문이라서 이거 고치기\n",
    "    # copy_slide02를 위치를 옮겨서 해결됨. 그런데 이미지가 같은 것이 2장 복사됨. 이거 고쳐야 함.\n",
    "    #for sublist in image_file:\n",
    "        #for img in sublist:\n",
    "            #if sublist.find('.jpg'):\n",
    "\n",
    "    for num in range(len(image_file)):\n",
    "    #for sublist in video_path:\n",
    "        copy_slide02(prs)  # 슬라이드 추가\n",
    "        str_in(prs, name, date)     # 사용자 입력받은 값 넣기\n",
    "\n",
    "        # 이미지 삽입\n",
    "\n",
    "        if image_file[num][num].find('.jpg'):\n",
    "            insert_image(prs, image_file)\n",
    "\n",
    " \n",
    "        # 영상 삽입\n",
    "        #if sublist.endswith('.mp4'):\n",
    "            #create_video(prs, video_path)\n",
    "            \n",
    "    prs.save(folder_path + '/tmp.pptx')"
   ]
  },
  {
   "cell_type": "code",
   "execution_count": 11,
   "id": "e506caba",
   "metadata": {},
   "outputs": [],
   "source": [
    "if __name__ == '__main__':\n",
    "    main()"
   ]
  },
  {
   "cell_type": "code",
   "execution_count": null,
   "id": "aef9efda",
   "metadata": {},
   "outputs": [],
   "source": []
  }
 ],
 "metadata": {
  "kernelspec": {
   "display_name": "Python 3 (ipykernel)",
   "language": "python",
   "name": "python3"
  },
  "language_info": {
   "codemirror_mode": {
    "name": "ipython",
    "version": 3
   },
   "file_extension": ".py",
   "mimetype": "text/x-python",
   "name": "python",
   "nbconvert_exporter": "python",
   "pygments_lexer": "ipython3",
   "version": "3.11.2"
  }
 },
 "nbformat": 4,
 "nbformat_minor": 5
}
