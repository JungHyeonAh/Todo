{
 "cells": [
  {
   "cell_type": "code",
   "execution_count": 4,
   "id": "3da26571-93f1-4297-8b7e-ca0145c1101d",
   "metadata": {},
   "outputs": [],
   "source": [
    "import matplotlib.pyplot as plt\n",
    "import pandas as pd\n",
    "import numpy as np\n",
    "\n",
    "import os\n",
    "import cv2\n",
    "from PIL import Image"
   ]
  },
  {
   "cell_type": "markdown",
   "id": "2aa88569-58ba-48f3-afc1-49eee483c696",
   "metadata": {},
   "source": [
    "### 데이터 불러오기"
   ]
  },
  {
   "cell_type": "code",
   "execution_count": 8,
   "id": "c760c700-8fe3-4580-b665-1e2a5b882ddd",
   "metadata": {},
   "outputs": [],
   "source": [
    "data = []\n",
    "label = []\n",
    "label_name = [\"AC\", \"FL\", \"HC\", \"HUM\"]\n",
    "\n",
    "# 이미지 사이즈 조정하기\n",
    "img_size = (224, 224)\n",
    "\n",
    "for i in label_name:  # label_name 값을 i에 저장하고, 총 4번 돌아감.\n",
    "    forder = f\"C:/Users/JungHyeona/Desktop/KNN/{i}\"\n",
    "    \n",
    "    for j in os.listdir(forder):  # forder 내에 있는 데이터를 j에 저장.\n",
    "        if j.endswith('.png'):    # 파일 내에서 png데이터만을 가져옴.\n",
    "            file = os.path.join(forder, j)\n",
    "            \n",
    "            img = cv2.imread(file, cv2.IMREAD_UNCHANGED)   # 이미지 데이터이기 때문에 cv2를 사용해 불러온다.\n",
    "            img_resize = cv2.resize(img, img_size)         # 이미지 크기 조정\n",
    "            fla = img_resize.flatten()   # 다차원 배열 공간을 1차원으로 평탄화해준다.\n",
    "            \n",
    "            data.append(fla)\n",
    "            # label에 폴더 이름을 넣고 돌렸을 때, data와 label의 데이터 수가 달랐음.\n",
    "            #   -> label = [A,~ M]으로 선언해서 데이터마다 label이 붙지 않아 오류가 발생했었음.\n",
    "            label.append(i)"
   ]
  },
  {
   "cell_type": "markdown",
   "id": "9b40937b-fcf1-4f7c-807c-76c7fe02722c",
   "metadata": {},
   "source": [
    "### 데이터 분리하기\n",
    "\n",
    "1. train / test로 분리\n",
    "2. train -> train / validation으로 분리\n",
    "\n",
    "=> train[train/val] / test 와 같은 형식\n",
    "\n",
    "https://wikidocs.net/33274<br>\n",
    "https://wikidocs.net/43729"
   ]
  },
  {
   "cell_type": "code",
   "execution_count": 9,
   "id": "4ed7363a-9efa-49b6-8671-9af01432e9d7",
   "metadata": {},
   "outputs": [
    {
     "data": {
      "text/plain": [
       "1216"
      ]
     },
     "execution_count": 9,
     "metadata": {},
     "output_type": "execute_result"
    }
   ],
   "source": [
    "len(data)"
   ]
  },
  {
   "cell_type": "code",
   "execution_count": 15,
   "id": "d1967926-1cb3-46ff-b6d3-3da19f39e5c0",
   "metadata": {},
   "outputs": [],
   "source": [
    "tr_num = int(len(data) * 0.7)\n",
    "te_num = int(len(data) - tr_num)"
   ]
  },
  {
   "cell_type": "code",
   "execution_count": 16,
   "id": "31bb4f30-0775-4e02-ac10-2091eb312d31",
   "metadata": {},
   "outputs": [
    {
     "name": "stdout",
     "output_type": "stream",
     "text": [
      "tr_num :  851\n",
      "te_num :  365\n"
     ]
    }
   ],
   "source": [
    "print(\"tr_num : \", tr_num)\n",
    "print(\"te_num : \", te_num)"
   ]
  },
  {
   "cell_type": "markdown",
   "id": "dda93b28-069c-4973-88e3-defc006e697e",
   "metadata": {},
   "source": [
    "### 1. data를 train과 test로 분리"
   ]
  },
  {
   "cell_type": "code",
   "execution_count": 17,
   "id": "331f2f09-3c18-42f0-b5ac-b2cf7db66d4a",
   "metadata": {},
   "outputs": [],
   "source": [
    "# train\n",
    "X_train = data[:tr_num]    # data\n",
    "y_train = label[:te_num]   # label\n",
    "\n",
    "# test\n",
    "X_test = data[tr_num:]     # data\n",
    "y_test = label[te_num:]    # label"
   ]
  },
  {
   "cell_type": "code",
   "execution_count": 20,
   "id": "3fbf2daa-4f2c-4056-9512-9f4aacea6e43",
   "metadata": {
    "collapsed": true,
    "jupyter": {
     "outputs_hidden": true
    },
    "tags": []
   },
   "outputs": [
    {
     "data": {
      "text/plain": [
       "[array([0, 0, 0, ..., 0, 0, 0], dtype=uint8),\n",
       " array([0, 0, 0, ..., 0, 0, 0], dtype=uint8),\n",
       " array([0, 0, 0, ..., 0, 0, 0], dtype=uint8),\n",
       " array([0, 0, 0, ..., 0, 0, 0], dtype=uint8),\n",
       " array([0, 0, 0, ..., 0, 0, 0], dtype=uint8),\n",
       " array([0, 0, 0, ..., 0, 0, 0], dtype=uint8),\n",
       " array([0, 0, 0, ..., 0, 0, 0], dtype=uint8),\n",
       " array([0, 0, 0, ..., 0, 0, 0], dtype=uint8),\n",
       " array([0, 0, 0, ..., 0, 0, 0], dtype=uint8),\n",
       " array([0, 0, 0, ..., 0, 0, 0], dtype=uint8)]"
      ]
     },
     "execution_count": 20,
     "metadata": {},
     "output_type": "execute_result"
    }
   ],
   "source": [
    "X_train[:10]"
   ]
  },
  {
   "cell_type": "markdown",
   "id": "7c4be6d7-1134-4969-a504-6213c70b343e",
   "metadata": {},
   "source": [
    "### 2. train 데이터를 train과 validation으로 분리\n",
    "\n",
    "- train_data를 세개로 분리할 것이기 때문에 이중 배열을 사용해야함 -> [[1], [2], [3]]\n",
    "  -> 이렇게 해주어야 val이 1~3까지 하나씩 골라가면서 검증을 해줄 수 있음. <br><br>\n",
    "  \n",
    "순서\n",
    "1. X_train을 3개로 분리하기\n",
    "2. 분리한 배열을 하나의 배열로 묶어주기\n",
    "3. for문을 사용해 val이 하나씩 지정하는지 확인해보기(print사용해서 확인만 일단!)\n",
    "<br>\n",
    "### 이 작업을 마친 후에 훈련할 수 있도록 고치기"
   ]
  },
  {
   "cell_type": "code",
   "execution_count": 26,
   "id": "f69dfd73-de5c-41ba-abe7-13414c71cb04",
   "metadata": {},
   "outputs": [
    {
     "ename": "ZeroDivisionError",
     "evalue": "division by zero",
     "output_type": "error",
     "traceback": [
      "\u001b[1;31m---------------------------------------------------------------------------\u001b[0m",
      "\u001b[1;31mZeroDivisionError\u001b[0m                         Traceback (most recent call last)",
      "\u001b[1;32m~\\AppData\\Local\\Temp\\ipykernel_14900\\116518148.py\u001b[0m in \u001b[0;36m<module>\u001b[1;34m\u001b[0m\n\u001b[0;32m      1\u001b[0m \u001b[1;32mfor\u001b[0m \u001b[0mseper\u001b[0m \u001b[1;32min\u001b[0m \u001b[0mrange\u001b[0m\u001b[1;33m(\u001b[0m\u001b[1;36m3\u001b[0m\u001b[1;33m)\u001b[0m\u001b[1;33m:\u001b[0m\u001b[1;33m\u001b[0m\u001b[1;33m\u001b[0m\u001b[0m\n\u001b[1;32m----> 2\u001b[1;33m     \u001b[0ma\u001b[0m \u001b[1;33m=\u001b[0m \u001b[0mlen\u001b[0m\u001b[1;33m(\u001b[0m\u001b[0mX_train\u001b[0m\u001b[1;33m)\u001b[0m \u001b[1;33m/\u001b[0m \u001b[0mseper\u001b[0m\u001b[1;33m\u001b[0m\u001b[1;33m\u001b[0m\u001b[0m\n\u001b[0m\u001b[0;32m      3\u001b[0m     \u001b[0mprint\u001b[0m\u001b[1;33m(\u001b[0m\u001b[0ma\u001b[0m\u001b[1;33m)\u001b[0m\u001b[1;33m\u001b[0m\u001b[1;33m\u001b[0m\u001b[0m\n",
      "\u001b[1;31mZeroDivisionError\u001b[0m: division by zero"
     ]
    }
   ],
   "source": [
    "se = int(len(X_train) / 3)  #851 / 3 = 283(소수점 제거)\n",
    "# train\n",
    "for seper in range(3):\n",
    "    a = int(len(X_train)) / seper\n",
    "    print(a)"
   ]
  },
  {
   "cell_type": "code",
   "execution_count": 35,
   "id": "d068fe5c-8b7f-48db-9ff5-959ce757f1f6",
   "metadata": {},
   "outputs": [],
   "source": [
    "se = int(len(X_train) / 3)  #851 / 3 = 283(소수점 제거)\n",
    "a = X_train[:se]\n",
    "b = X_train[se:se+se]\n",
    "c = X_train[se+se:]"
   ]
  },
  {
   "cell_type": "code",
   "execution_count": 40,
   "id": "a4c9c68e-1d3b-4b13-9534-dcf0d407a9b1",
   "metadata": {},
   "outputs": [
    {
     "data": {
      "text/plain": [
       "285"
      ]
     },
     "execution_count": 40,
     "metadata": {},
     "output_type": "execute_result"
    }
   ],
   "source": [
    "\n",
    "for(int i=0; i<3; i++):\n",
    "    "
   ]
  },
  {
   "cell_type": "code",
   "execution_count": null,
   "id": "c16f44b0-6d7a-4127-9069-bcfbf8967faa",
   "metadata": {},
   "outputs": [],
   "source": []
  }
 ],
 "metadata": {
  "kernelspec": {
   "display_name": "Python 3 (ipykernel)",
   "language": "python",
   "name": "python3"
  },
  "language_info": {
   "codemirror_mode": {
    "name": "ipython",
    "version": 3
   },
   "file_extension": ".py",
   "mimetype": "text/x-python",
   "name": "python",
   "nbconvert_exporter": "python",
   "pygments_lexer": "ipython3",
   "version": "3.9.13"
  }
 },
 "nbformat": 4,
 "nbformat_minor": 5
}
